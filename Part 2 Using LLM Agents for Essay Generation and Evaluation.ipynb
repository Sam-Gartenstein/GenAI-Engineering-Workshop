{
  "nbformat": 4,
  "nbformat_minor": 0,
  "metadata": {
    "colab": {
      "provenance": [],
      "authorship_tag": "ABX9TyM8JEFRp0x1xDo7e4Gsshgw",
      "include_colab_link": true
    },
    "kernelspec": {
      "name": "python3",
      "display_name": "Python 3"
    },
    "language_info": {
      "name": "python"
    }
  },
  "cells": [
    {
      "cell_type": "markdown",
      "metadata": {
        "id": "view-in-github",
        "colab_type": "text"
      },
      "source": [
        "<a href=\"https://colab.research.google.com/github/Sam-Gartenstein/GenAI-Engineering-Workshop/blob/main/Part%202%20Using%20LLM%20Agents%20for%20Essay%20Generation%20and%20Evaluation.ipynb\" target=\"_parent\"><img src=\"https://colab.research.google.com/assets/colab-badge.svg\" alt=\"Open In Colab\"/></a>"
      ]
    },
    {
      "cell_type": "markdown",
      "source": [
        "# Part 2: Using LLM Agents for Synthetic Data Generation\n",
        "\n",
        "You have completed [Part 1: Guide to OpenAI in Google Colab](https://github.com/Sam-Gartenstein/GenAI-Engineering-Workshop/blob/main/Part%201%3A%20Guide%20to%20OpenAI%20in%20Google%20Colab.ipynb). Now, let’s apply those skills to a real-world use case.  \n",
        "\n",
        "In this section, you’ll learn about **[role-based collaboration](https://www.ibm.com/think/topics/multi-agent-collaboration)**, a framework where multiple LLMs work together by taking on distinct roles with specific purposes. Each agent performs its own task and passes the result to the next, creating a seamless workflow powered by **prompt chaining**.  \n",
        "\n",
        "We will use generative AI to:\n",
        "\n",
        "- **Create** an 11th-grade English essay (Student Agent)  \n",
        "- **Design** a rubric to evaluate the essay (Rubric Agent)  \n",
        "- **Grade** the essay using the rubric (Grading Agent)  \n",
        "\n",
        "By the end of this section, you’ll understand how to design and connect multiple role-based agents to simulate a realistic classroom workflow — from writing to evaluation to grading.\n"
      ],
      "metadata": {
        "id": "2PTBJOxLCkQQ"
      }
    },
    {
      "cell_type": "markdown",
      "source": [
        "First, let's repeat the steps we followed in the previous notebook, which was importing the necessary libraries and loading our key.\n",
        "\n",
        "**Note**: Once you have made a key in colab, it will automatically save, meaning you can use it in other notebooks. When running line two for the first time, you will get a pop up window asking you to grant access."
      ],
      "metadata": {
        "id": "uYwLnel9Dxs0"
      }
    },
    {
      "cell_type": "code",
      "source": [
        "import openai\n",
        "from openai import OpenAI\n",
        "from google.colab import userdata\n",
        "import os\n",
        "from typing import Tuple, Optional, Dict, Any"
      ],
      "metadata": {
        "id": "r_XvFa8-EXJ6"
      },
      "execution_count": 1,
      "outputs": []
    },
    {
      "cell_type": "code",
      "execution_count": 2,
      "metadata": {
        "colab": {
          "base_uri": "https://localhost:8080/"
        },
        "id": "S0E_v7yzCidD",
        "outputId": "a6f074f7-f2d6-40a6-a918-390c1cf39073"
      },
      "outputs": [
        {
          "output_type": "stream",
          "name": "stdout",
          "text": [
            "Key loaded? True\n"
          ]
        }
      ],
      "source": [
        "# Pull your saved secret into an environment variable\n",
        "os.environ[\"OPENAI_API_KEY\"] = userdata.get(\"OPENAI_API_KEY\")\n",
        "\n",
        "# Test if the key is available (without printing it)\n",
        "if not os.getenv(\"OPENAI_API_KEY\"):\n",
        "    raise RuntimeError(\"OPENAI_API_KEY is not set. Add it via Colab Secrets (🔑) and try again.\")\n",
        "else:\n",
        "    print(\"Key loaded?\", True)"
      ]
    },
    {
      "cell_type": "markdown",
      "source": [
        "## Generating Essays\n",
        "\n",
        "Let's start by generating two essays on the same topic — **Shakespeare’s *Othello***. We’ll create one **A-level** and one **C-level** essay to compare how writing quality changes when the same Student Agent follows different performance prompts.\n",
        "\n",
        "The function we use, `generate_essay`, produces a single essay at a time.  \n",
        "In addition to the main inputs (`system_role`, `prompt`, `model`, and `temperature`), it also takes two key arguments:\n",
        "\n",
        "- **`topic`** — The essay question or theme.  \n",
        "  This defines *what* the student is writing about. For example:  \n",
        "  *“Discuss how jealousy shapes Othello’s decisions and relationships.”*\n",
        "\n",
        "- **`grade_level`** — A label that identifies the educational level or target audience for the essay.  \n",
        "  Here, it helps maintain context, such as *“11th grade,”* so the model writes with an appropriate voice and complexity. If not familiar with the US education system, **please read** this [article](https://usahello.org/education/children/grade-levels/) explaining the US grade systems.\n",
        "\n",
        "By generating both essays on the same topic, we can clearly see how **prompt design** shapes differences in reasoning depth, structure, and tone.\n",
        "\n",
        "Additionally, we will use the markdown format function!\n"
      ],
      "metadata": {
        "id": "SOkgNy_gE220"
      }
    },
    {
      "cell_type": "code",
      "source": [
        "from typing import Tuple, Optional, Dict, Any\n",
        "\n",
        "def text_generation(\n",
        "    system_role: str,\n",
        "    prompt: str,\n",
        "    sections: dict | None = None,   # e.g., {\"RUBRIC\": rubric_md, \"ESSAY TO GRADE\": essay_text}\n",
        "    model: str = \"gpt-4o-mini\",\n",
        "    temperature: float = 0.2,\n",
        "    **api_kwargs,                   # pass through extra API params (seed, top_p, etc.)\n",
        ") -> Tuple[str, Optional[Dict[str, Any]]]:\n",
        "    \"\"\"\n",
        "    Generic text generation helper.\n",
        "    Returns: (text, usage_dict)\n",
        "\n",
        "    - `prompt` contains the task/instructions (e.g., \"Evaluate the essay using the rubric...\").\n",
        "    - `sections` is an optional mapping of label -> content appended as clearly marked blocks.\n",
        "    - `usage_dict` mirrors the API's usage payload (may be None).\n",
        "    \"\"\"\n",
        "    user_parts = [prompt]\n",
        "    for label, content in (sections or {}).items():\n",
        "        user_parts.append(f\"{label}:\\n{content}\")\n",
        "    user_msg = \"\\n\\n\".join(user_parts)\n",
        "\n",
        "    resp = client.responses.create(\n",
        "        model=model,\n",
        "        input=[\n",
        "            {\"role\": \"system\", \"content\": system_role},\n",
        "            {\"role\": \"user\", \"content\": user_msg},\n",
        "        ],\n",
        "        temperature=temperature,\n",
        "        **api_kwargs,\n",
        "    )\n",
        "\n",
        "    text = (getattr(resp, \"output_text\", \"\") or \"\").strip()\n",
        "\n",
        "    # Normalize usage to a dict when possible\n",
        "    usage = getattr(resp, \"usage\", None)\n",
        "    if usage is not None and not isinstance(usage, dict):\n",
        "        usage = getattr(usage, \"__dict__\", None)\n",
        "\n",
        "    return text, usage"
      ],
      "metadata": {
        "id": "zkokk2xQEZX9"
      },
      "execution_count": 3,
      "outputs": []
    },
    {
      "cell_type": "code",
      "source": [
        "from IPython.display import display, Markdown  # Tools for displaying formatted text in Jupyter Notebooks\n",
        "\n",
        "def to_markdown(text):\n",
        "    # Convert the provided text to Markdown format for better display in Jupyter Notebooks\n",
        "    return Markdown(text)\n"
      ],
      "metadata": {
        "id": "ZFNkRVMgNzrt"
      },
      "execution_count": 4,
      "outputs": []
    },
    {
      "cell_type": "markdown",
      "source": [],
      "metadata": {
        "id": "ok1c4fyv1DqM"
      }
    },
    {
      "cell_type": "code",
      "source": [
        "def summarize_usage_cost(usage: dict, model: str = \"gpt-4o-mini\") -> dict:\n",
        "    \"\"\"\n",
        "    Summarize input/output token usage and total cost (USD).\n",
        "\n",
        "    Args:\n",
        "        usage (dict): Usage info returned by the API (includes input_tokens, output_tokens, etc.).\n",
        "        model (str): Model name for pricing lookup.\n",
        "\n",
        "    Returns:\n",
        "        dict: Contains input_tokens, output_tokens, total_tokens, cost_usd.\n",
        "    \"\"\"\n",
        "    # --- pricing table (per 1M tokens) ---\n",
        "    pricing = {\n",
        "        \"gpt-4o-mini\": {\"input\": 0.15 / 1_000_000, \"output\": 0.60 / 1_000_000},\n",
        "        \"gpt-4o\": {\"input\": 2.50 / 1_000_000, \"output\": 10.00 / 1_000_000},\n",
        "        \"gpt-3.5-turbo\": {\"input\": 0.50 / 1_000_000, \"output\": 1.50 / 1_000_000},\n",
        "    }\n",
        "\n",
        "    model_rate = pricing.get(model, pricing[\"gpt-4o-mini\"])  # default if unknown\n",
        "\n",
        "    # --- extract token counts safely ---\n",
        "    input_tokens = usage.get(\"input_tokens\") or usage.get(\"prompt_tokens\", 0)\n",
        "    output_tokens = usage.get(\"output_tokens\") or usage.get(\"completion_tokens\", 0)\n",
        "    total_tokens = input_tokens + output_tokens\n",
        "\n",
        "    # --- compute cost ---\n",
        "    cost_usd = (\n",
        "        input_tokens * model_rate[\"input\"]\n",
        "        + output_tokens * model_rate[\"output\"]\n",
        "    )\n",
        "\n",
        "    return {\n",
        "        \"model\": model,\n",
        "        \"input_tokens\": input_tokens,\n",
        "        \"output_tokens\": output_tokens,\n",
        "        \"total_tokens\": total_tokens,\n",
        "        \"cost_usd\": round(cost_usd, 6),\n",
        "    }"
      ],
      "metadata": {
        "id": "_GsBZrC61D9T"
      },
      "execution_count": 5,
      "outputs": []
    },
    {
      "cell_type": "markdown",
      "source": [
        "## Essay Generation\n",
        "\n",
        "As shown in [Part 1](https://github.com/Sam-Gartenstein/GenAI-Engineering-Workshop/blob/main/Part%201%3A%20Guide%20to%20OpenAI%20in%20Google%20Colab.ipynb) of this course series, we will be using system/user role prompting. Our goal is to generate essays of varying performance levels, with one consistent Student Agent representing the writer’s identity, and the user prompt controlling the essay’s quality.\n",
        "\n",
        "The Student Agent defines the persona — a realistic high school student writing for an English class — while the prompt specifies the assignment requirements and the expected performance level. By adjusting the temperature and prompt details, we can simulate essays ranging from polished and insightful (A-level) to basic and error-prone (C-level).\n",
        "\n",
        "This setup allows us to maintain a consistent writing voice while producing diverse samples for grading, evaluation, or fine-tuning models that assess writing quality.\n",
        "\n",
        "### Understanding Letter Grades\n",
        "\n",
        "In many U.S. schools and universities, essays are graded on a **letter scale** from **A** to **F**. For more information, please read [Grading System in USA](https://www.canamgroup.com/blog/grading-system-in-usa)."
      ],
      "metadata": {
        "id": "havshzPtJ2Wh"
      }
    },
    {
      "cell_type": "markdown",
      "source": [
        "First, as always, let's creates a client object."
      ],
      "metadata": {
        "id": "_db1yeh9U4QC"
      }
    },
    {
      "cell_type": "code",
      "source": [
        "client = OpenAI()"
      ],
      "metadata": {
        "id": "UgkKIU8yG2r3"
      },
      "execution_count": 6,
      "outputs": []
    },
    {
      "cell_type": "markdown",
      "source": [
        "### Student Agent\n",
        "\n",
        "The **Student Agent** represents a student completing an academic assignment. It adapts dynamically to different subjects, grade levels, assignment types, and topics based on the parameters passed into the `build_student_agent` function.  \n",
        "\n",
        "This role defines the writer’s persona — realistic, thoughtful, and age-appropriate — ensuring consistency across assignments of varying quality levels or subjects. By adjusting variables such as `grade_level`, `subject`, `assignment_type`, and `topic`, you can easily simulate different student contexts (for example, a 9th-grade science lab report or a 12th-grade history essay).  \n",
        "\n",
        "This modular approach makes the Student Agent flexible and reusable across multiple educational scenarios while maintaining a natural, student-like writing style.\n"
      ],
      "metadata": {
        "id": "ZHVY2MKOVqZH"
      }
    },
    {
      "cell_type": "code",
      "source": [
        "def build_student_agent(grade_level: str, subject: str, assignment_type: str, topic: str) -> str:\n",
        "    \"\"\"\n",
        "    Build a student persona for role-based generation.\n",
        "    Keeps voice/level in the system message and defers specifics to the prompt.\n",
        "    \"\"\"\n",
        "    return (\n",
        "        f\"You are a {grade_level} student completing a {assignment_type} for your {subject} class \"\n",
        "        f\"on the topic: {topic} \"\n",
        "        \"Write in a realistic student voice—thoughtful but not overly advanced. \"\n",
        "        \"Follow the assignment prompt’s instructions (length, structure, citation style). \"\n",
        "        \"Use clear, organized paragraphs and avoid jargon unless requested.\"\n",
        "    )"
      ],
      "metadata": {
        "id": "dt_t_yEmP2V2"
      },
      "execution_count": 7,
      "outputs": []
    },
    {
      "cell_type": "markdown",
      "source": [
        "### 11th Grade English Student\n",
        "\n",
        "In this example, we create a **Student Agent** representing an 11th-grade student writing an **English essay** on the topic: *“How does Iago exploit Othello’s insecurities to drive the tragedy in **Othello**?”* We’ll call this variable `english_student_11`.\n",
        "\n",
        "The agent is built using the `build_student_agent` function, which defines the student’s persona based on grade level, subject, assignment type, and topic. This creates a realistic, age-appropriate writing voice that is thoughtful but not overly advanced.\n"
      ],
      "metadata": {
        "id": "8lxhMCRDTKq_"
      }
    },
    {
      "cell_type": "code",
      "source": [
        "grade_level = \"11th grade\"\n",
        "subject = \"English\"\n",
        "assignment_type = \"essay\"\n",
        "topic = \"How does Iago exploit Othello’s insecurities to drive the tragedy in *Othello*?\"\n",
        "\n",
        "enlgish_student_11 = build_student_agent(grade_level, subject, assignment_type, topic)"
      ],
      "metadata": {
        "id": "mn8XfwAOL7da"
      },
      "execution_count": 8,
      "outputs": []
    },
    {
      "cell_type": "markdown",
      "source": [
        "### A-Level Prompt\n",
        "\n",
        "Now that we’ve defined the **Student Agent** for an 11th-grade English student writing about *Othello*, we can move on to creating the **A-Level Prompt**, which provides the model with detailed writing instructions.  \n",
        "\n",
        "The A-Level Prompt directs the model to produce an outstanding literary analysis essay that demonstrates deep understanding, originality, and strong analytical reasoning. It requires a clear, arguable thesis at the end of the introduction, supported by concise quotations and insightful interpretation.  \n",
        "\n",
        "Writing at this level should be polished and formal — avoiding casual tone, first person, and rhetorical questions. Each paragraph should begin with a strong topic sentence and connect logically to the thesis. The essay should be **450–600 words**, with citations formatted as *(act.scene.line)* (e.g., *3.3.167*), ensuring a cohesive, high-quality literary analysis suitable for an advanced high school student.\n"
      ],
      "metadata": {
        "id": "tlcBYiLeJrt2"
      }
    },
    {
      "cell_type": "code",
      "source": [
        "essay_prompt_A_level = (\n",
        "    \"Write an A-level literary analysis essay that follows the detailed guidelines below.\\n\\n\"\n",
        "    \"What 'A-level' means: excellent or outstanding work — demonstrates a deep and \"\n",
        "    \"original understanding of the text, presents a clear and arguable thesis, and supports claims with precise \"\n",
        "    \"evidence and insightful analysis. Writing should be organized, polished, and stylistically sophisticated.\\n\\n\"\n",
        "    \"OUTPUT REQUIREMENTS:\\n\"\n",
        "    \"- Include a clear, arguable thesis at the END of the introduction.\\n\"\n",
        "    \"- Use concise, well-chosen quotations from the play and explain HOW they support your argument \"\n",
        "    \"(analysis > summary).\\n\"\n",
        "    \"- Ensure each paragraph has a strong topic sentence and smooth transitions; every idea should advance the thesis.\\n\"\n",
        "    \"- Maintain a precise, academic tone throughout; avoid first person, rhetorical questions, or casual phrasing.\\n\"\n",
        "    \"- Aim for ~450–600 words.\\n\"\n",
        "    \"- Cite quotations using act.scene.line format (e.g., 3.3.167).\\n\"\n",
        ")\n"
      ],
      "metadata": {
        "id": "EaQrDp09G-D3"
      },
      "execution_count": 9,
      "outputs": []
    },
    {
      "cell_type": "code",
      "source": [
        "A_level_essay, A_level_usage = text_generation(\n",
        "    system_role=enlgish_student_11,\n",
        "    prompt=essay_prompt_A_level,\n",
        "    model=\"gpt-4o-mini\",\n",
        "    temperature=0.3,\n",
        ")\n",
        "\n",
        "to_markdown(A_level_essay)"
      ],
      "metadata": {
        "id": "JCuKRLCZJvd2",
        "colab": {
          "base_uri": "https://localhost:8080/",
          "height": 461
        },
        "outputId": "78f77585-fc11-438f-9666-a8f31da72c08"
      },
      "execution_count": 10,
      "outputs": [
        {
          "output_type": "execute_result",
          "data": {
            "text/plain": [
              "<IPython.core.display.Markdown object>"
            ],
            "text/markdown": "In William Shakespeare's *Othello*, the character of Iago masterfully exploits Othello's insecurities, particularly regarding his race and status, to orchestrate a tragic downfall. Iago's manipulation is not merely a product of malice; it is a calculated strategy that reveals the vulnerabilities of Othello's character. By preying on Othello's deep-seated fears of inadequacy and jealousy, Iago catalyzes a chain of events that ultimately leads to Othello's tragic demise. Thus, Iago's exploitation of Othello's insecurities serves as a critical mechanism driving the tragedy of the play.\n\nFrom the outset, Iago recognizes Othello's insecurities about his outsider status in Venetian society. Othello, a Moor and a military leader, grapples with feelings of alienation and self-doubt. Iago capitalizes on this vulnerability by suggesting that Desdemona, Othello's wife, is unfaithful. He insinuates that Othello's race makes him unworthy of Desdemona's love, stating, \"Blessed fig's-end! The wine she drinks is made of grapes: if she be fair and wise, fairness and wit, the one's for use, the other useth it\" (2.1.247-249). Here, Iago implies that Desdemona's beauty and intelligence are incompatible with Othello's racial identity, thereby planting seeds of doubt in Othello's mind. This manipulation not only highlights Iago's cunning but also underscores Othello's internal struggle with his racial identity, which Iago exploits to provoke jealousy.\n\nMoreover, Iago's strategic use of language further exacerbates Othello's insecurities. He often employs suggestive imagery and ambiguous statements that leave Othello questioning his own perceptions. For instance, when Iago tells Othello to \"look to your wife; observe her well with Cassio\" (3.3.198), he subtly implies infidelity without providing concrete evidence. This insinuation plays on Othello's fears, leading him to obsess over the possibility of Desdemona's betrayal. The psychological manipulation Iago employs reveals how easily Othello can be swayed by doubt, illustrating the fragility of his self-esteem. As Othello becomes increasingly consumed by jealousy, he loses sight of his rationality, demonstrating how Iago's exploitation of his insecurities drives him toward tragedy.\n\nIago's manipulation reaches its zenith when he presents Othello with the handkerchief, a symbol of love and fidelity. By planting the handkerchief in Cassio's possession, Iago creates a tangible representation of Othello's worst fears. Othello's reaction to the handkerchief—“O, the more angel she, and you the blacker devil!” (5.2.125)—reveals the tragic culmination of Iago's exploitation. Othello's internalization of Iago's insinuations leads him to equate his racial identity with evil, further deepening his insecurities. This moment encapsulates the tragic irony of the play: Othello, a noble figure, succumbs to the very insecurities that Iago has instilled in him, leading to his ultimate downfall.\n\nIn conclusion, Iago's exploitation of Othello's insecurities is central to the tragedy of *Othello*. By manipulating Othello's fears of inadequacy and jealousy, Iago orchestrates a series of events that culminate in Othello's tragic demise. The interplay between Iago's cunning and Othello's vulnerabilities not only drives the plot but also serves as a poignant commentary on the destructive power of manipulation and the fragility of self-identity. Ultimately, Shakespeare crafts a narrative that reveals how deeply ingrained insecurities can lead to one's undoing, making *Othello* a timeless exploration of the human condition."
          },
          "metadata": {},
          "execution_count": 10
        }
      ]
    },
    {
      "cell_type": "code",
      "source": [
        "summarize_usage_cost(A_level_usage)"
      ],
      "metadata": {
        "colab": {
          "base_uri": "https://localhost:8080/"
        },
        "id": "YGzC88Go0vgv",
        "outputId": "94a9d177-1c3f-4c53-b236-3f8c1cc5b39e"
      },
      "execution_count": 11,
      "outputs": [
        {
          "output_type": "execute_result",
          "data": {
            "text/plain": [
              "{'model': 'gpt-4o-mini',\n",
              " 'input_tokens': 268,\n",
              " 'output_tokens': 800,\n",
              " 'total_tokens': 1068,\n",
              " 'cost_usd': 0.00052}"
            ]
          },
          "metadata": {},
          "execution_count": 11
        }
      ]
    },
    {
      "cell_type": "markdown",
      "source": [
        "-----\n",
        "\n",
        "### C-Level Prompt\n",
        "\n",
        "The **C-Level Prompt** instructs the model to produce an average or barely passing essay. A *C-level* essay demonstrates basic comprehension of the topic but lacks depth, organization, and stylistic control. It may have a weak or missing thesis, minimal or poorly integrated evidence, repetitive ideas, and noticeable grammar or usage mistakes.  \n",
        "\n",
        "Writing at this level should sound more casual and unpolished — including filler phrases such as “I think” or “in my opinion” and avoiding strong transitions like “however” or “therefore.” The essay should be short, approximately four paragraphs (200–300 words), and contain a few minor grammatical errors that sound natural for a struggling student writer.  \n",
        "\n",
        "Like before, we provide **explicit instructions** in the prompt to guide the model’s behavior. The detailed output requirements ensure the essay intentionally reflects weaker academic performance while still maintaining a realistic student voice."
      ],
      "metadata": {
        "id": "utz_pOiCKpZ1"
      }
    },
    {
      "cell_type": "code",
      "source": [
        "essay_prompt_C_level = (\n",
        "    \"Write an essay responding to the question below.\\n\\n\"\n",
        "    \"IMPORTANT: Produce a deliberately poor-quality **C-level** essay for teaching purposes.\\n\"\n",
        "    \"What 'C-level' means: average or barely passing work — shows some understanding \"\n",
        "    \"but lacks depth or polish; weak thesis or none, little/no evidence, poor organization, repetition/vagueness, \"\n",
        "    \"and noticeable grammar/style mistakes.\\n\\n\"\n",
        "    \"OUTPUT REQUIREMENTS:\\n\"\n",
        "    \"- Return ONLY the essay body (no headings or bullets).\\n\"\n",
        "    \"- Do NOT provide a clear thesis; keep the main claim vague.\\n\"\n",
        "    \"- Provide minimal or poorly integrated evidence (generic statements are fine; avoid direct quotations).\\n\"\n",
        "    \"- Organization should be weak (some repetition or loosely connected ideas is acceptable).\\n\"\n",
        "    \"- Keep it short: 4 paragraphs (~200–300 words).\\n\"\n",
        "    \"- Include a few minor grammar/usage mistakes naturally (e.g., comma splices, agreement issues).\\n\"\n",
        "    \"- Casual, somewhat imprecise tone is acceptable.\\n\"\n",
        "    \"- Use a few filler phrases like 'I think' or 'in my opinion,' and avoid strong transitions like 'however' or 'therefore.'\"\n",
        ")\n",
        "\n",
        "\n",
        "C_level_essay, C_level_usage = text_generation(\n",
        "    system_role=enlgish_student_11,\n",
        "    prompt=essay_prompt_C_level,\n",
        "    model=\"gpt-4o-mini\",\n",
        "    temperature=0.3,\n",
        ")\n"
      ],
      "metadata": {
        "id": "YrBdddUXKahM"
      },
      "execution_count": 12,
      "outputs": []
    },
    {
      "cell_type": "code",
      "source": [
        "to_markdown(C_level_essay)"
      ],
      "metadata": {
        "id": "nWXmlYdXO5AU",
        "colab": {
          "base_uri": "https://localhost:8080/",
          "height": 251
        },
        "outputId": "e934ac68-c03a-4fe4-c68b-3937efa824d1"
      },
      "execution_count": 13,
      "outputs": [
        {
          "output_type": "execute_result",
          "data": {
            "text/plain": [
              "<IPython.core.display.Markdown object>"
            ],
            "text/markdown": "In *Othello*, Iago is a character who really knows how to take advantage of Othello’s insecurities. Othello, being a Moor and an outsider in Venetian society, has a lot of doubts about himself. Iago uses this to make Othello feel even worse about himself. For example, he keeps suggesting that Desdemona, Othello’s wife, is unfaithful. This really gets to Othello because he already feels insecure about his race and status. I think this is a big part of why Othello starts to believe Iago. \n\nIago also plays on Othello's trust in him. Othello sees Iago as a friend, which is kind of ironic because Iago is actually the one who is betraying him. Othello thinks that Iago is honest, but in reality, Iago is just using that trust to manipulate him. This is important because it shows how easily Othello can be led astray. I mean, if he had questioned Iago more, maybe things would have turned out differently. But instead, Othello just keeps listening to Iago, which is not good for him.\n\nAnother thing is that Iago knows how to make Othello doubt Desdemona. He plants seeds of doubt in Othello's mind, which grows into something much bigger. Othello becomes obsessed with the idea that Desdemona is cheating on him, and this makes him act irrationally. It’s like Iago is playing a game, and Othello is just a pawn. I think this shows how powerful Iago is, but it also shows how weak Othello is in dealing with his own feelings.\n\nIn conclusion, Iago really takes advantage of Othello’s insecurities and trust issues. This leads to a lot of misunderstandings and ultimately tragedy. Othello’s downfall is really tied to how Iago manipulates him, and it’s sad to see how easily Othello falls for it. I guess it just goes to show that sometimes people can be their own worst enemies, especially when they let others play with their minds."
          },
          "metadata": {},
          "execution_count": 13
        }
      ]
    },
    {
      "cell_type": "code",
      "source": [
        "summarize_usage_cost(C_level_usage)"
      ],
      "metadata": {
        "colab": {
          "base_uri": "https://localhost:8080/"
        },
        "id": "_EWybRRC26gr",
        "outputId": "882b833f-b578-40f0-877f-ab5da9e339b9"
      },
      "execution_count": 14,
      "outputs": [
        {
          "output_type": "execute_result",
          "data": {
            "text/plain": [
              "{'model': 'gpt-4o-mini',\n",
              " 'input_tokens': 300,\n",
              " 'output_tokens': 442,\n",
              " 'total_tokens': 742,\n",
              " 'cost_usd': 0.00031}"
            ]
          },
          "metadata": {},
          "execution_count": 14
        }
      ]
    },
    {
      "cell_type": "markdown",
      "source": [
        "## Rubric Generation\n",
        "\n",
        "\n",
        "Great! We’ve now generated two essays on the same topic but with different performance levels. The next step is to create a **rubric** that can be used to evaluate them.\n",
        "\n",
        "This rubric function works almost exactly like the generate_essay function. It still takes in the same core arguments — system_role, prompt, topic, and grade_level. The only difference is in how the user message is structured.\n",
        "\n",
        "Inside the user_content, instead of including\n",
        "`\"ESSAY TOPIC / QUESTION:\\n{topic}\\n\\n\"` we replace it with\n",
        "\n",
        "`\"RUBRIC TOPIC / CONTEXT:\\n{topic}\\n\\n\".`\n",
        "\n",
        "This small change tells the model that it should generate an **evaluation framework** rather than an essay. The output will describe the criteria, expectations, and performance distinctions (for example, what separates A-level from C-level work) for that specific topic or assignment."
      ],
      "metadata": {
        "id": "8L80tCb3Mv1E"
      }
    },
    {
      "cell_type": "markdown",
      "source": [
        "### Rubric Agent Function\n",
        "\n",
        "The `build_rubric_agent` function creates a **teacher persona** that specializes in building grading rubrics. It takes in the **grade level**, **subject**, **assignment type**, and **topic** to generate a clear system message describing the teacher’s role.  \n",
        "\n",
        "This teacher is instructed to design a **student-facing rubric** with 4–6 criteria and A/B/C/D performance levels. The rubric should use concise, observable, and consistent language, focusing only on defining expectations — not grading specific work.\n"
      ],
      "metadata": {
        "id": "Td_f3SagS3_q"
      }
    },
    {
      "cell_type": "code",
      "source": [
        "def build_rubric_agent(grade_level: str, subject: str, assignment_type: str, topic: str) -> str:\n",
        "    \"\"\"\n",
        "    Build a teacher persona for rubric generation.\n",
        "    Keeps guidance in the system message; the task/prompt comes separately.\n",
        "    \"\"\"\n",
        "    return (\n",
        "        f\"You are a {subject} teacher creating a grading rubric for a {assignment_type} \"\n",
        "        f\"on the topic: {topic}, for {grade_level} students. \"\n",
        "        \"Be clear and student-facing.\"\n",
        "    )"
      ],
      "metadata": {
        "id": "WmmsVzmAPpJF"
      },
      "execution_count": 15,
      "outputs": []
    },
    {
      "cell_type": "code",
      "source": [
        "rubric_agent = build_rubric_agent(\n",
        "    grade_level=\"11th grade\",\n",
        "    subject=\"English\",\n",
        "    assignment_type=\"essay\",\n",
        "    topic=\"How does Iago exploit Othello’s insecurities to drive the tragedy in *Othello*?\"\n",
        ")"
      ],
      "metadata": {
        "id": "SaMVaj_lPo8P"
      },
      "execution_count": 16,
      "outputs": []
    },
    {
      "cell_type": "code",
      "source": [
        "rubric_instructions = (\n",
        "    \"Create a grading rubric tailored to the topic and grade. Include 4–6 criteria.\\n\"\n",
        "    \"For each criterion, provide concise A/B/C/D descriptors using observable behaviors.\\n\"\n",
        "    \"Return the rubric in clean Markdown format with the following structure:\\n\\n\"\n",
        "    \"## Rubric\\n\"\n",
        "    \"### Criterion Name\\n\"\n",
        "    \"- **Weight (%):** \\n\"\n",
        "    \"- **A:** \\n\"\n",
        "    \"- **B:** \\n\"\n",
        "    \"- **C:** \\n\"\n",
        "    \"- **D:** \\n\\n\"\n",
        "    \"Include a short notes section at the end summarizing key expectations or grading guidance.\"\n",
        ")\n"
      ],
      "metadata": {
        "id": "rRDjb2RHSuTx"
      },
      "execution_count": 17,
      "outputs": []
    },
    {
      "cell_type": "code",
      "source": [
        "english_rubric, rubric_usage = text_generation(\n",
        "    system_role=rubric_agent,\n",
        "    prompt=rubric_instructions,\n",
        "    model=\"gpt-4o-mini\",\n",
        "    temperature=0.3,\n",
        ")\n",
        "\n",
        "to_markdown(english_rubric)"
      ],
      "metadata": {
        "colab": {
          "base_uri": "https://localhost:8080/",
          "height": 808
        },
        "id": "D9v3BZSHXMGo",
        "outputId": "096eef1c-e98a-479f-bcc6-0d6bea793955"
      },
      "execution_count": 18,
      "outputs": [
        {
          "output_type": "execute_result",
          "data": {
            "text/plain": [
              "<IPython.core.display.Markdown object>"
            ],
            "text/markdown": "## Rubric\n\n### Thesis Statement\n- **Weight (%):** 20\n- **A:** Clear, insightful thesis that directly addresses how Iago exploits Othello’s insecurities; sets a strong foundation for the essay.\n- **B:** Clear thesis that addresses the prompt but may lack depth or specificity; provides a solid foundation.\n- **C:** Thesis is present but vague or only partially addresses the prompt; lacks clarity in direction.\n- **D:** No clear thesis or completely off-topic; does not address the prompt.\n\n### Evidence and Analysis\n- **Weight (%):** 30\n- **A:** Provides multiple relevant textual examples that are thoroughly analyzed; demonstrates deep understanding of the text.\n- **B:** Provides relevant examples with some analysis; shows a good understanding of the text but may lack depth.\n- **C:** Provides few examples; analysis is superficial or only loosely connected to the thesis.\n- **D:** Lacks relevant examples or analysis; fails to engage with the text meaningfully.\n\n### Organization and Structure\n- **Weight (%):** 20\n- **A:** Well-organized essay with clear, logical flow; effective use of paragraphs and transitions enhances readability.\n- **B:** Generally organized with a logical flow; some transitions may be awkward but overall structure is clear.\n- **C:** Organization is present but may be confusing; paragraphs may lack clear focus or transitions.\n- **D:** Poorly organized; lacks clear structure and flow, making it difficult to follow the argument.\n\n### Language and Style\n- **Weight (%):** 15\n- **A:** Uses varied and sophisticated language; tone is appropriate for an academic essay; few to no grammatical errors.\n- **B:** Language is clear and appropriate; some variety in sentence structure; few grammatical errors.\n- **C:** Language is basic or repetitive; tone may not be fully appropriate; several grammatical errors present.\n- **D:** Language is unclear or inappropriate; frequent grammatical errors hinder understanding.\n\n### Conclusion\n- **Weight (%):** 15\n- **A:** Strong conclusion that effectively summarizes key points and reinforces the thesis; leaves a lasting impression.\n- **B:** Clear conclusion that summarizes main points but may not fully reinforce the thesis or provide insight.\n- **C:** Conclusion is present but weak; may simply restate points without adding depth or insight.\n- **D:** No conclusion or a conclusion that fails to summarize or connect to the thesis.\n\n### Notes\n- Ensure your essay directly addresses the prompt and provides a clear argument supported by textual evidence.\n- Pay attention to the organization of your ideas; each paragraph should focus on a single point that supports your thesis.\n- Use varied language and maintain an academic tone throughout your essay.\n- Proofread for grammatical errors and clarity before submission."
          },
          "metadata": {},
          "execution_count": 18
        }
      ]
    },
    {
      "cell_type": "code",
      "source": [
        "summarize_usage_cost(rubric_usage)"
      ],
      "metadata": {
        "colab": {
          "base_uri": "https://localhost:8080/"
        },
        "id": "ALIgB7gUXU26",
        "outputId": "603b8ba4-42c4-4a80-c39d-12c0d7e4f457"
      },
      "execution_count": 19,
      "outputs": [
        {
          "output_type": "execute_result",
          "data": {
            "text/plain": [
              "{'model': 'gpt-4o-mini',\n",
              " 'input_tokens': 158,\n",
              " 'output_tokens': 565,\n",
              " 'total_tokens': 723,\n",
              " 'cost_usd': 0.000363}"
            ]
          },
          "metadata": {},
          "execution_count": 19
        }
      ]
    },
    {
      "cell_type": "markdown",
      "source": [
        "----\n",
        "\n",
        "## Essay Grading\n",
        "\n",
        "Now we can use the LLM to grade the essay! This will allow us to double check that our output matches expectations!"
      ],
      "metadata": {
        "id": "h38m6jEGPXi4"
      }
    },
    {
      "cell_type": "markdown",
      "source": [
        "### Grading Agent\n",
        "\n",
        "Once again, we can create another agent, but this one for grading the essay!"
      ],
      "metadata": {
        "id": "RRp6X4sGPfC_"
      }
    },
    {
      "cell_type": "code",
      "source": [
        "def build_grading_agent(grade_level: str, subject: str, assignment_type: str, topic: str) -> str:\n",
        "    \"\"\"\n",
        "    Build a teacher persona for grading essay.\n",
        "    Keeps guidance in the system message; the task/prompt comes separately.\n",
        "    \"\"\"\n",
        "    return (\n",
        "        f\"You are a {subject} teacher carefully grading a {assignment_type} \"\n",
        "        f\"on the topic: {topic}, for {grade_level} students. \"\n",
        "        \"Be fair, consistent, and concise.\"\n",
        "    )"
      ],
      "metadata": {
        "id": "PZfcD4CzSuQ6"
      },
      "execution_count": 20,
      "outputs": []
    },
    {
      "cell_type": "code",
      "source": [
        "grading_agent = build_grading_agent(\n",
        "    grade_level=\"11th grade\",\n",
        "    subject=\"English\",\n",
        "    assignment_type=\"essay\",\n",
        "    topic=\"How does Iago exploit Othello’s insecurities to drive the tragedy in *Othello*?\"\n",
        ")"
      ],
      "metadata": {
        "id": "9MglxT6Inche"
      },
      "execution_count": 21,
      "outputs": []
    },
    {
      "cell_type": "code",
      "source": [
        "grading_instructions = (\n",
        "    \"Evaluate the essay using the provided rubric. Output in Markdown only.\\n\\n\"\n",
        "    \"SCORING SCALES:\\n\"\n",
        "    \"- Levels (both overall and per-category):\\n\"\n",
        "    \"  - A = Excellent (90–100)\\n\"\n",
        "    \"  - B = Good (80–89)\\n\"\n",
        "    \"  - C = Satisfactory (70–79)\\n\"\n",
        "    \"  - D = Below Average (60–69)\\n\"\n",
        "    \"  - F = Failing (0–59)\\n\"\n",
        "    \"- Numeric Scores: Use integers 0–100. Choose a score consistent with the level’s band.\\n\"\n",
        "    \"- Overall Score: Compute a weighted average of category scores using rubric weights; if no weights are given, weight categories equally. Round to nearest integer.\\n\\n\"\n",
        "    \"JUSTIFICATION RULES:\\n\"\n",
        "    \"- Tie every justification to observable features in the essay and to the rubric’s descriptors.\\n\"\n",
        "    \"- Be concise (1–2 sentences per category) and avoid vague language.\\n\"\n",
        "    \"- Do not introduce criteria that are not in the rubric.\\n\\n\"\n",
        "    \"OUTPUT FORMAT (Markdown):\\n\"\n",
        "    \"## Overall Grade\\n\"\n",
        "    \"- **Level:** A|B|C|D|F\\n\"\n",
        "    \"- **Score:** 0–100\\n\"\n",
        "    \"- **Summary (2–3 sentences):** Brief rationale referencing key strengths/weaknesses relative to the rubric.\\n\\n\"\n",
        "    \"## Category Breakdown (mirror rubric order)\\n\"\n",
        "    \"For each category from the rubric, include:\\n\"\n",
        "    \"- **Level:** A|B|C|D|F (use the bands above)\\n\"\n",
        "    \"- **Score:** 0–100 (consistent with the level band)\\n\"\n",
        "    \"- **Justification (1–2 sentences):** Reference specific evidence and the rubric language.\\n\\n\"\n",
        "    \"CONSTRAINTS:\\n\"\n",
        "    \"- Mirror the rubric categories exactly and in the same order.\\n\"\n",
        "    \"- If rubric weights are present, respect them; otherwise assume equal weights.\\n\"\n",
        "    \"- Keep the tone professional and concise.\\n\"\n",
        "    \"- Do not add extra sections or prose outside the specified format.\"\n",
        ")\n",
        "\n"
      ],
      "metadata": {
        "id": "Nt5BEueHnhl0"
      },
      "execution_count": 22,
      "outputs": []
    },
    {
      "cell_type": "markdown",
      "source": [
        "### Grading A Level Essay"
      ],
      "metadata": {
        "id": "ufFqdv6rsD67"
      }
    },
    {
      "cell_type": "code",
      "source": [
        "A_level_essay_graded, A_level_essay_graded_usage = text_generation(\n",
        "    system_role=grading_agent,\n",
        "    prompt=grading_instructions,\n",
        "    sections={\"RUBRIC\": english_rubric, \"ESSAY TO GRADE\": A_level_essay},\n",
        "    temperature=0.2,\n",
        ")\n",
        "\n",
        "to_markdown(A_level_essay_graded)"
      ],
      "metadata": {
        "colab": {
          "base_uri": "https://localhost:8080/",
          "height": 714
        },
        "id": "hsXcebBYo5qp",
        "outputId": "62db9645-e9ae-4b26-8331-87c59342dfa0"
      },
      "execution_count": 23,
      "outputs": [
        {
          "output_type": "execute_result",
          "data": {
            "text/plain": [
              "<IPython.core.display.Markdown object>"
            ],
            "text/markdown": "## Overall Grade\n- **Level:** A\n- **Score:** 95\n- **Summary:** The essay presents a clear and insightful thesis that effectively addresses how Iago exploits Othello's insecurities. It is well-supported with relevant textual evidence and demonstrates a deep understanding of the play's themes and characters.\n\n## Category Breakdown\n\n### Thesis Statement\n- **Level:** A\n- **Score:** 95\n- **Justification:** The thesis is clear and insightful, directly addressing how Iago exploits Othello's insecurities and setting a strong foundation for the essay.\n\n### Evidence and Analysis\n- **Level:** A\n- **Score:** 95\n- **Justification:** The essay provides multiple relevant textual examples that are thoroughly analyzed, demonstrating a deep understanding of the text and effectively linking back to the thesis.\n\n### Organization and Structure\n- **Level:** A\n- **Score:** 90\n- **Justification:** The essay is well-organized with a clear logical flow; effective use of paragraphs and transitions enhances readability, though a few transitions could be smoother.\n\n### Language and Style\n- **Level:** A\n- **Score:** 90\n- **Justification:** The language is varied and sophisticated, maintaining an appropriate academic tone with few grammatical errors, contributing to the overall clarity of the argument.\n\n### Conclusion\n- **Level:** A\n- **Score:** 95\n- **Justification:** The conclusion effectively summarizes key points and reinforces the thesis, leaving a lasting impression on the reader and providing insight into the play's themes."
          },
          "metadata": {},
          "execution_count": 23
        }
      ]
    },
    {
      "cell_type": "code",
      "source": [
        "summarize_usage_cost(A_level_essay_graded_usage)"
      ],
      "metadata": {
        "colab": {
          "base_uri": "https://localhost:8080/"
        },
        "id": "MIjG4OCp4K2A",
        "outputId": "05d5a56d-f070-489c-ceb0-d303e9a831c5"
      },
      "execution_count": 24,
      "outputs": [
        {
          "output_type": "execute_result",
          "data": {
            "text/plain": [
              "{'model': 'gpt-4o-mini',\n",
              " 'input_tokens': 1795,\n",
              " 'output_tokens': 318,\n",
              " 'total_tokens': 2113,\n",
              " 'cost_usd': 0.00046}"
            ]
          },
          "metadata": {},
          "execution_count": 24
        }
      ]
    },
    {
      "cell_type": "markdown",
      "source": [
        "### Grading C Level Essay"
      ],
      "metadata": {
        "id": "ft6vQw0inauJ"
      }
    },
    {
      "cell_type": "code",
      "source": [
        "C_level_essay_graded, C_level_essay_graded_usage = text_generation(\n",
        "    system_role=grading_agent,\n",
        "    prompt=grading_instructions,\n",
        "    sections={\"RUBRIC\": english_rubric, \"ESSAY TO GRADE\": C_level_essay},\n",
        "    temperature=0.2,\n",
        ")\n",
        "\n",
        "to_markdown(C_level_essay_graded)"
      ],
      "metadata": {
        "colab": {
          "base_uri": "https://localhost:8080/",
          "height": 731
        },
        "id": "qIHkjKU-soUt",
        "outputId": "e90abeb6-6e16-417b-f7d3-27e5f4f90e8d"
      },
      "execution_count": 25,
      "outputs": [
        {
          "output_type": "execute_result",
          "data": {
            "text/plain": [
              "<IPython.core.display.Markdown object>"
            ],
            "text/markdown": "## Overall Grade\n- **Level:** B\n- **Score:** 85\n- **Summary:** The essay presents a clear thesis and relevant examples, but lacks depth in analysis and organization. While it effectively addresses how Iago exploits Othello's insecurities, the insights could be more thoroughly developed.\n\n## Category Breakdown\n\n### Thesis Statement\n- **Level:** B\n- **Score:** 85\n- **Justification:** The thesis clearly addresses the prompt by stating that Iago exploits Othello’s insecurities, but it could benefit from more specificity regarding the mechanisms of this exploitation.\n\n### Evidence and Analysis\n- **Level:** B\n- **Score:** 80\n- **Justification:** The essay provides relevant examples of Iago's manipulation, but the analysis is somewhat superficial and lacks deeper exploration of the implications of these actions on Othello's character.\n\n### Organization and Structure\n- **Level:** C\n- **Score:** 75\n- **Justification:** The organization is present, but the flow between ideas is occasionally awkward, and some paragraphs lack clear focus, making it harder to follow the argument.\n\n### Language and Style\n- **Level:** B\n- **Score:** 80\n- **Justification:** The language is generally clear and appropriate for an academic essay, though it lacks some variety in sentence structure and contains a few informal phrases that detract from the overall tone.\n\n### Conclusion\n- **Level:** B\n- **Score:** 85\n- **Justification:** The conclusion effectively summarizes the main points and reinforces the thesis, but it could provide more insight into the broader implications of Othello's tragedy."
          },
          "metadata": {},
          "execution_count": 25
        }
      ]
    },
    {
      "cell_type": "code",
      "source": [
        "summarize_usage_cost(C_level_essay_graded_usage)"
      ],
      "metadata": {
        "colab": {
          "base_uri": "https://localhost:8080/"
        },
        "id": "OqEYwewE5N_4",
        "outputId": "990fc17d-6be8-4be9-f069-e588748aeedc"
      },
      "execution_count": 26,
      "outputs": [
        {
          "output_type": "execute_result",
          "data": {
            "text/plain": [
              "{'model': 'gpt-4o-mini',\n",
              " 'input_tokens': 1437,\n",
              " 'output_tokens': 338,\n",
              " 'total_tokens': 1775,\n",
              " 'cost_usd': 0.000418}"
            ]
          },
          "metadata": {},
          "execution_count": 26
        }
      ]
    },
    {
      "cell_type": "markdown",
      "source": [
        "## Forward\n",
        "\n",
        "You have now seen how we can use LLMs to generate synthetic essays through **role-based prompting**. In this notebook, we defined a single **Student Agent** — an 11th-grade student writing for an English class — whose role establishes a consistent, realistic writing voice. By clearly defining the agent’s perspective and pairing it with detailed prompts, we can guide the model to produce essays of varying quality and tone.  \n",
        "\n",
        "However, just because we instructed the model to create essays to reflect a certain quality, it may not actually reflect the quality. This is the subjective part,\n",
        "\n",
        "*EDIT THIS*"
      ],
      "metadata": {
        "id": "jATSmw4f1Y-Z"
      }
    },
    {
      "cell_type": "markdown",
      "source": [
        "Now, the rest of the notebook is up to you — it’s your turn to experiment! Try extending what you’ve learned in creative ways. For example, you can:\n",
        "\n",
        "- Generate **D- or F-level** essays to simulate weaker student writing  \n",
        "- **Adjust the prompts** to explore different subjects or essay types, or adjust the existing prompts! Perhaps these essays don't actually reflect A or C level quality.\n",
        "- **Modify the Student Agent** to represent different grade levels or academic disciplines  \n",
        "- Experiment with new **output requirements** such as word limits, tone, or structure  \n",
        "\n",
        "Exploring these variations will help you better understand how **role definition** and **prompt design** shape the quality, depth, and realism of LLM-generated writing.\n",
        "\n"
      ],
      "metadata": {
        "id": "8lqWIIzMdGK8"
      }
    }
  ]
}
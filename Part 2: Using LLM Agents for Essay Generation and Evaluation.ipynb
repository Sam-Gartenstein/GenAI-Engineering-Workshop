{
  "nbformat": 4,
  "nbformat_minor": 0,
  "metadata": {
    "colab": {
      "provenance": [],
      "authorship_tag": "ABX9TyMmWXMj5cM9rsQ1UQAcNt9M",
      "include_colab_link": true
    },
    "kernelspec": {
      "name": "python3",
      "display_name": "Python 3"
    },
    "language_info": {
      "name": "python"
    }
  },
  "cells": [
    {
      "cell_type": "markdown",
      "metadata": {
        "id": "view-in-github",
        "colab_type": "text"
      },
      "source": [
        "<a href=\"https://colab.research.google.com/github/Sam-Gartenstein/GenAI-Engineering-Workshop/blob/main/Part%202%3A%20Using%20LLM%20Agents%20for%20Essay%20Generation%20and%20Evaluation.ipynb\" target=\"_parent\"><img src=\"https://colab.research.google.com/assets/colab-badge.svg\" alt=\"Open In Colab\"/></a>"
      ]
    },
    {
      "cell_type": "markdown",
      "source": [
        "# Part 2: Using LLM Agents for Synthetic Data Generation\n",
        "\n",
        "You have completed [Part 1: Guide to OpenAI in Google Colab](https://github.com/Sam-Gartenstein/GenAI-Engineering-Workshop/blob/main/Part%201%3A%20Guide%20to%20OpenAI%20in%20Google%20Colab.ipynb). Now, let’s apply those skills to a real-world use case.  \n",
        "\n",
        "In this section, you’ll learn about **[role-based collaboration](https://www.ibm.com/think/topics/multi-agent-collaboration)**, a framework where multiple LLMs work together by taking on distinct roles with specific purposes. Each agent performs its own task and passes the result to the next, creating a seamless workflow powered by **prompt chaining**.  \n",
        "\n",
        "We will use generative AI to:\n",
        "\n",
        "- **Create** two 11th-grade English essays of varying quality (Student Agent)  \n",
        "- **Design** a rubric to evaluate the essay (Rubric Agent)  \n",
        "- **Grade** the essay using the rubric (Grading Agent)  \n",
        "\n",
        "By the end of this section, you’ll understand how to design and connect multiple role-based agents to simulate a realistic classroom workflow — from writing to evaluation to grading.\n"
      ],
      "metadata": {
        "id": "2PTBJOxLCkQQ"
      }
    },
    {
      "cell_type": "markdown",
      "source": [
        "First, let's repeat the steps we followed in the previous notebook, which was importing the necessary libraries and loading our key.\n",
        "\n",
        "**Note**: Once you have made a key in colab, it will automatically save, meaning you can use it in other notebooks. When running line two for the first time, you will get a pop up window asking you to grant access."
      ],
      "metadata": {
        "id": "uYwLnel9Dxs0"
      }
    },
    {
      "cell_type": "code",
      "source": [
        "import openai\n",
        "from openai import OpenAI\n",
        "from google.colab import userdata\n",
        "import os\n",
        "from typing import Tuple, Optional, Dict, Any"
      ],
      "metadata": {
        "id": "r_XvFa8-EXJ6"
      },
      "execution_count": 27,
      "outputs": []
    },
    {
      "cell_type": "code",
      "execution_count": 28,
      "metadata": {
        "colab": {
          "base_uri": "https://localhost:8080/"
        },
        "id": "S0E_v7yzCidD",
        "outputId": "9bbb87d3-a91a-4174-fb36-84eaca0a12a2"
      },
      "outputs": [
        {
          "output_type": "stream",
          "name": "stdout",
          "text": [
            "Key loaded? True\n"
          ]
        }
      ],
      "source": [
        "# Pull your saved secret into an environment variable\n",
        "os.environ[\"OPENAI_API_KEY\"] = userdata.get(\"OPENAI_API_KEY\")\n",
        "\n",
        "# Test if the key is available (without printing it)\n",
        "if not os.getenv(\"OPENAI_API_KEY\"):\n",
        "    raise RuntimeError(\"OPENAI_API_KEY is not set. Add it via Colab Secrets (🔑) and try again.\")\n",
        "else:\n",
        "    print(\"Key loaded?\", True)"
      ]
    },
    {
      "cell_type": "code",
      "source": [
        "client = OpenAI()"
      ],
      "metadata": {
        "id": "4eupEMGt6RVR"
      },
      "execution_count": 29,
      "outputs": []
    },
    {
      "cell_type": "markdown",
      "source": [
        "## Text Generation Function\n",
        "\n",
        "Let’s create **one** function for generating all outputs. It combines a **system role** (agent persona) with a **task prompt**, and can optionally append extra **sections** (e.g., a rubric and an essay) as clearly labeled blocks. This single helper can write essays, build rubrics, or grade work—just by changing the role, prompt, and sections. It also returns **usage** (token counts) so you can track how many tokens you’re using and estimate cost.\n",
        "\n",
        "**What it does**\n",
        "- Sends a single request to the model with:\n",
        "  - **System role**: defines the voice/perspective (Student, Teacher, Grader, etc.).\n",
        "  - **Prompt**: the task/instructions (e.g., “Evaluate the essay using the rubric…”).\n",
        "  - **Sections (optional)**: a mapping of `Label → Content` appended below the prompt (e.g., `{\"RUBRIC\": ..., \"ESSAY TO GRADE\": ...}`).\n",
        "\n",
        "**Returns**\n",
        "- **Text**: the generated output as a string.\n",
        "- **Usage**: a dict of token metadata from the API (input/output/total tokens), useful for logging and cost estimation.\n",
        "\n",
        "**Why this design**\n",
        "- **One function, many tasks**: swap in different roles/prompts without new code.\n",
        "- **Structured context**: labeled sections keep long inputs organized.\n",
        "- **Cost-aware**: the returned `usage` enables token tracking and pricing."
      ],
      "metadata": {
        "id": "s345XLdyzNFt"
      }
    },
    {
      "cell_type": "code",
      "source": [
        "def text_generation(\n",
        "    system_role: str,\n",
        "    prompt: str,\n",
        "    sections: dict | None = None,\n",
        "    model: str = \"gpt-4o-mini\",\n",
        "    temperature: float = 0.2,\n",
        "):\n",
        "    user_parts = [prompt]\n",
        "    for label, content in (sections or {}).items():\n",
        "        user_parts.append(f\"{label}:\\n{content}\")\n",
        "    user_msg = \"\\n\\n\".join(user_parts)\n",
        "\n",
        "    resp = client.responses.create(\n",
        "        model=model,\n",
        "        input=[\n",
        "            {\"role\": \"system\", \"content\": system_role},\n",
        "            {\"role\": \"user\", \"content\": user_msg},\n",
        "        ],\n",
        "        temperature=temperature,\n",
        "    )\n",
        "    text = (getattr(resp, \"output_text\", \"\") or \"\").strip()\n",
        "    usage = getattr(resp, \"usage\", None)\n",
        "    if usage is not None and not isinstance(usage, dict):\n",
        "        usage = getattr(usage, \"__dict__\", None)\n",
        "    return text, usage\n"
      ],
      "metadata": {
        "id": "zkokk2xQEZX9"
      },
      "execution_count": 30,
      "outputs": []
    },
    {
      "cell_type": "code",
      "source": [
        "from IPython.display import display, Markdown  # Tools for displaying formatted text in Jupyter Notebooks\n",
        "\n",
        "def to_markdown(text):\n",
        "    # Convert the provided text to Markdown format for better display in Jupyter Notebooks\n",
        "    return Markdown(text)\n"
      ],
      "metadata": {
        "id": "ZFNkRVMgNzrt"
      },
      "execution_count": 31,
      "outputs": []
    },
    {
      "cell_type": "markdown",
      "source": [
        "### Cost Summarization\n",
        "\n",
        "\n",
        "This helper summarizes token usage and estimates **total cost (USD)** for a model call.\n",
        "\n",
        "**What it uses**\n",
        "- The API’s `usage` payload to read **input_tokens** (prompt) and **output_tokens** (completion).\n",
        "- A built-in **pricing table (per 1M tokens)** for common models (e.g., `gpt-4o-mini`, `gpt-4o`, `gpt-3.5-turbo`).  \n",
        "  If the model isn’t found, it defaults to `gpt-4o-mini`.\n",
        "\n",
        "**Returns**\n",
        "- `model`: the model name used for pricing lookup  \n",
        "- `input_tokens`: tokens consumed by your messages  \n",
        "- `output_tokens`: tokens generated by the model  \n",
        "- `total_tokens`: input + output  \n",
        "- `cost_usd`: estimated cost, rounded to 6 decimals\n",
        "\n",
        "**Why it’s useful**\n",
        "- Quick **cost visibility** per call\n",
        "- Consistent **logging/analytics** across notebooks\n",
        "- Works with different SDK field names (`input_tokens`/`prompt_tokens`, `output_tokens`/`completion_tokens`)\n"
      ],
      "metadata": {
        "id": "ok1c4fyv1DqM"
      }
    },
    {
      "cell_type": "code",
      "source": [
        "def summarize_usage_cost(usage: dict, model: str = \"gpt-4o-mini\") -> dict:\n",
        "    \"\"\"\n",
        "    Summarize input/output token usage and total cost (USD).\n",
        "\n",
        "    Args:\n",
        "        usage (dict): Usage info returned by the API (includes input_tokens, output_tokens, etc.).\n",
        "        model (str): Model name for pricing lookup.\n",
        "\n",
        "    Returns:\n",
        "        dict: Contains input_tokens, output_tokens, total_tokens, cost_usd.\n",
        "    \"\"\"\n",
        "    # --- pricing table (per 1M tokens) ---\n",
        "    pricing = {\n",
        "        \"gpt-4o-mini\": {\"input\": 0.15 / 1_000_000, \"output\": 0.60 / 1_000_000},\n",
        "        \"gpt-4o\": {\"input\": 2.50 / 1_000_000, \"output\": 10.00 / 1_000_000},\n",
        "        \"gpt-3.5-turbo\": {\"input\": 0.50 / 1_000_000, \"output\": 1.50 / 1_000_000},\n",
        "    }\n",
        "\n",
        "    model_rate = pricing.get(model, pricing[\"gpt-4o-mini\"])  # default if unknown\n",
        "\n",
        "    # --- extract token counts safely ---\n",
        "    input_tokens = usage.get(\"input_tokens\") or usage.get(\"prompt_tokens\", 0)\n",
        "    output_tokens = usage.get(\"output_tokens\") or usage.get(\"completion_tokens\", 0)\n",
        "    total_tokens = input_tokens + output_tokens\n",
        "\n",
        "    # --- compute cost ---\n",
        "    cost_usd = (\n",
        "        input_tokens * model_rate[\"input\"]\n",
        "        + output_tokens * model_rate[\"output\"]\n",
        "    )\n",
        "\n",
        "    return {\n",
        "        \"model\": model,\n",
        "        \"input_tokens\": input_tokens,\n",
        "        \"output_tokens\": output_tokens,\n",
        "        \"total_tokens\": total_tokens,\n",
        "        \"cost_usd\": round(cost_usd, 6),\n",
        "    }"
      ],
      "metadata": {
        "id": "_GsBZrC61D9T"
      },
      "execution_count": 32,
      "outputs": []
    },
    {
      "cell_type": "markdown",
      "source": [
        "## Essay Generation\n",
        "\n",
        "Let's start by generating two essays on the same topic — **Shakespeare’s *Othello***. We’ll create one **A-level** and one **C-level** essay (see this [article](https://usahello.org/education/children/grade-levels/) for an overview of the U.S. grading system) to compare how writing quality changes when the same Student Agent follows different performance prompts.\n"
      ],
      "metadata": {
        "id": "havshzPtJ2Wh"
      }
    },
    {
      "cell_type": "markdown",
      "source": [
        "### Student Agent\n",
        "\n",
        "We’ll begin by creating a **Student Agent**, which represents a student completing an academic assignment. This agent dynamically adapts to different **subjects**, **grade levels**, **assignment types**, and **topics** based on the parameters passed into the `build_student_agent` function.  \n",
        "\n",
        "The Student Agent defines the writer’s persona — realistic, thoughtful, and age-appropriate — ensuring consistent tone and perspective across assignments of varying difficulty or subject matter. By adjusting parameters such as `grade_level`, `subject`, `assignment_type`, and `topic`, you can simulate diverse classroom contexts (e.g., a 9th-grade science lab report or a 12th-grade history essay).  \n",
        "\n",
        "This modular setup makes the Student Agent both **flexible** and **reusable**, allowing you to maintain a natural, student-like writing style across multiple educational use cases.\n",
        "\n",
        "\n",
        "\n"
      ],
      "metadata": {
        "id": "ZHVY2MKOVqZH"
      }
    },
    {
      "cell_type": "code",
      "source": [
        "def build_student_agent(grade_level: str, subject: str, assignment_type: str, topic: str) -> str:\n",
        "    \"\"\"\n",
        "    Build a student persona for role-based generation.\n",
        "    Keeps voice/level in the system message and defers specifics to the prompt.\n",
        "    \"\"\"\n",
        "    return (\n",
        "        f\"You are a {grade_level} student completing a {assignment_type} for your {subject} class \"\n",
        "        f\"on the topic: {topic} \"\n",
        "        \"Write in a realistic student voice—thoughtful but not overly advanced. \"\n",
        "        \"Follow the assignment prompt’s instructions (length, structure, citation style). \"\n",
        "        \"Use clear, organized paragraphs and avoid jargon unless requested.\"\n",
        "    )"
      ],
      "metadata": {
        "id": "dt_t_yEmP2V2"
      },
      "execution_count": 33,
      "outputs": []
    },
    {
      "cell_type": "markdown",
      "source": [
        "### 11th Grade English Student\n",
        "\n",
        "In this example, we create a **Student Agent** representing an 11th-grade student writing an **English essay** on the topic: *“How does Iago exploit Othello’s insecurities to drive the tragedy in **Othello**?”* We’ll call this variable `english_student_11`.\n",
        "\n",
        "This agent captures a realistic, age-appropriate writing voice — thoughtful but not overly advanced — suitable for a high school English student analyzing a complex literary text.\n"
      ],
      "metadata": {
        "id": "8lxhMCRDTKq_"
      }
    },
    {
      "cell_type": "code",
      "source": [
        "grade_level = \"11th grade\"\n",
        "subject = \"English\"\n",
        "assignment_type = \"essay\"\n",
        "topic = \"How does Iago exploit Othello’s insecurities to drive the tragedy in *Othello*?\"\n",
        "\n",
        "enlgish_student_11 = build_student_agent(grade_level, subject, assignment_type, topic)"
      ],
      "metadata": {
        "id": "mn8XfwAOL7da"
      },
      "execution_count": 34,
      "outputs": []
    },
    {
      "cell_type": "markdown",
      "source": [
        "### A-Level Prompt\n",
        "\n",
        "Now that we’ve defined the **Student Agent** for an 11th-grade English student writing about *Othello*, we can move on to creating the **A-Level Prompt**, which provides the model with detailed writing instructions. We’ll call this prompt `essay_A_level_instructions`.  \n",
        "\n",
        "The A-Level Prompt directs the model to produce an outstanding literary analysis essay that demonstrates deep understanding, originality, and strong analytical reasoning. It requires a clear, arguable thesis placed at the end of the introduction and supported by concise quotations and insightful interpretation.  \n",
        "\n",
        "Writing at this level should be polished and formal — avoiding casual tone, first person, and rhetorical questions. Each paragraph should begin with a strong topic sentence and connect logically to the thesis. The essay should be **450–600 words** and cite evidence in *(act.scene.line)* format (e.g., *3.3.167*), resulting in a cohesive, high-quality literary analysis suitable for an advanced high school student.\n"
      ],
      "metadata": {
        "id": "tlcBYiLeJrt2"
      }
    },
    {
      "cell_type": "code",
      "source": [
        "essay_A_level_instructions = (\n",
        "    \"Write an A-level literary analysis essay that follows the detailed guidelines below.\\n\\n\"\n",
        "    \"What 'A-level' means: excellent or outstanding work — demonstrates a deep and \"\n",
        "    \"original understanding of the text, presents a clear and arguable thesis, and supports claims with precise \"\n",
        "    \"evidence and insightful analysis. Writing should be organized, polished, and stylistically sophisticated.\\n\\n\"\n",
        "    \"OUTPUT REQUIREMENTS:\\n\"\n",
        "    \"- Include a clear, arguable thesis at the END of the introduction.\\n\"\n",
        "    \"- Use concise, well-chosen quotations from the play and explain HOW they support your argument \"\n",
        "    \"(analysis > summary).\\n\"\n",
        "    \"- Ensure each paragraph has a strong topic sentence and smooth transitions; every idea should advance the thesis.\\n\"\n",
        "    \"- Maintain a precise, academic tone throughout; avoid first person, rhetorical questions, or casual phrasing.\\n\"\n",
        "    \"- Aim for ~450–600 words.\\n\"\n",
        "    \"- Cite quotations using act.scene.line format (e.g., 3.3.167).\\n\"\n",
        ")\n"
      ],
      "metadata": {
        "id": "EaQrDp09G-D3"
      },
      "execution_count": 35,
      "outputs": []
    },
    {
      "cell_type": "code",
      "source": [
        "A_level_essay, A_level_usage = text_generation(\n",
        "    system_role=enlgish_student_11,\n",
        "    prompt=essay_A_level_instructions,\n",
        "    model=\"gpt-4o-mini\",\n",
        "    temperature=0.3,\n",
        ")\n",
        "\n",
        "to_markdown(A_level_essay)"
      ],
      "metadata": {
        "id": "JCuKRLCZJvd2",
        "colab": {
          "base_uri": "https://localhost:8080/",
          "height": 512
        },
        "outputId": "fd587bad-3930-4e16-fdc2-03cd678318c4"
      },
      "execution_count": 36,
      "outputs": [
        {
          "output_type": "execute_result",
          "data": {
            "text/plain": [
              "<IPython.core.display.Markdown object>"
            ],
            "text/markdown": "In William Shakespeare's *Othello*, the character of Iago serves as the architect of tragedy, manipulating the insecurities of Othello to orchestrate his downfall. Iago's cunning exploitation of Othello's vulnerabilities—particularly his racial insecurities, his trust in others, and his fear of inadequacy—reveals how easily a person's weaknesses can be twisted to serve malicious ends. Through Iago's machinations, Shakespeare illustrates the destructive power of manipulation and the tragic consequences of unchecked jealousy and self-doubt. Ultimately, Iago's exploitation of Othello's insecurities not only drives the plot but also underscores the play's central themes of trust, betrayal, and the fragility of human relationships.\n\nOne of the most significant insecurities that Iago exploits is Othello's racial identity. As a Moor in Venetian society, Othello is acutely aware of his outsider status, which Iago uses to his advantage. Iago frequently refers to Othello in derogatory terms, such as when he describes him as \"the Moor\" (1.1.58), stripping him of his individuality and reinforcing his status as an outsider. This constant reminder of Othello's race feeds into his insecurities, making him more susceptible to Iago's insinuations about Desdemona's fidelity. For instance, when Iago suggests that Desdemona's love for Othello is unnatural, he plays on Othello's fears that he is unworthy of her affection. Iago states, \"Blessed fig's-end! The wine she drinks is made of grapes\" (2.3.319), implying that Desdemona's love is superficial and that she could easily be swayed by someone of higher status. This manipulation deepens Othello's insecurities, leading him to doubt Desdemona's loyalty and ultimately driving him to jealousy and rage.\n\nMoreover, Iago exploits Othello's inherent trust in those around him, particularly in Iago himself. Othello's belief in Iago as an honest and loyal friend makes him vulnerable to manipulation. Iago's reputation as \"honest Iago\" (1.3.7) allows him to deceive Othello without raising suspicion. When Iago plants the seed of doubt regarding Desdemona's fidelity, Othello's trust in Iago blinds him to the truth. For example, Iago's assertion that he has seen Cassio with Desdemona leads Othello to demand proof, showing how Iago's manipulation has taken root in Othello's mind (3.3.373-375). This reliance on Iago's perceived honesty ultimately proves fatal, as Othello's trust becomes a weapon against him, allowing Iago to orchestrate his tragic downfall.\n\nLastly, Othello's fear of inadequacy plays a crucial role in Iago's exploitation of his character. Othello's status as a military leader does not shield him from feelings of inferiority, especially in relation to his marriage to Desdemona. Iago preys on this fear, suggesting that Othello is not deserving of Desdemona's love. The pivotal moment occurs when Othello, consumed by jealousy, asserts, \"I am not what I am\" (1.1.65), reflecting his internal struggle with identity and self-worth. This statement encapsulates Othello's conflict; he is torn between his noble persona and the insecurities that Iago amplifies. As Othello succumbs to Iago's manipulations, his fear of inadequacy transforms into a destructive jealousy that leads to tragic consequences, including the murder of Desdemona and his own demise.\n\nIn conclusion, Iago's exploitation of Othello's insecurities is central to the tragedy of *Othello*. By manipulating Othello's racial identity, undermining his trust in others, and amplifying his fears of inadequacy, Iago orchestrates a series of events that culminate in destruction and despair. Shakespeare's portrayal of this manipulation serves as a poignant reminder of the vulnerabilities inherent in human nature and the devastating effects of betrayal. Through Iago's cunning, the play illustrates how easily trust can be shattered and how insecurities can lead to one's downfall, making *Othello* a timeless exploration of the darker aspects of the human psyche."
          },
          "metadata": {},
          "execution_count": 36
        }
      ]
    },
    {
      "cell_type": "markdown",
      "source": [
        "#### Cost Summarization"
      ],
      "metadata": {
        "id": "azYlcVyI6qzZ"
      }
    },
    {
      "cell_type": "code",
      "source": [
        "summarize_usage_cost(A_level_usage)"
      ],
      "metadata": {
        "colab": {
          "base_uri": "https://localhost:8080/"
        },
        "id": "YGzC88Go0vgv",
        "outputId": "4d11587a-02ef-4390-d385-1c6f18a4d543"
      },
      "execution_count": 37,
      "outputs": [
        {
          "output_type": "execute_result",
          "data": {
            "text/plain": [
              "{'model': 'gpt-4o-mini',\n",
              " 'input_tokens': 268,\n",
              " 'output_tokens': 885,\n",
              " 'total_tokens': 1153,\n",
              " 'cost_usd': 0.000571}"
            ]
          },
          "metadata": {},
          "execution_count": 37
        }
      ]
    },
    {
      "cell_type": "markdown",
      "source": [
        "-----\n",
        "\n",
        "### C-Level Prompt\n",
        "\n",
        "The **C-Level Prompt** instructs the model to produce an average or barely passing essay. A *C-level* essay demonstrates basic comprehension of the topic but lacks depth, organization, and stylistic control. It may have a weak or missing thesis, minimal or poorly integrated evidence, repetitive ideas, and noticeable grammar or usage mistakes. We will call this `essay_C_level_instructions`.\n",
        "\n",
        "Writing at this level should sound more casual and unpolished — including filler phrases such as “I think” or “in my opinion” and avoiding strong transitions like “however” or “therefore.” The essay should be short, approximately four paragraphs (200–300 words), and contain a few minor grammatical errors that sound natural for a struggling student writer.  \n",
        "\n",
        "Like before, we provide **explicit instructions** in the prompt to guide the model’s behavior. The detailed output requirements ensure the essay intentionally reflects weaker academic performance while still maintaining a realistic student voice."
      ],
      "metadata": {
        "id": "utz_pOiCKpZ1"
      }
    },
    {
      "cell_type": "code",
      "source": [
        "essay_C_level_instructions = (\n",
        "    \"Write an essay responding to the question below.\\n\\n\"\n",
        "    \"IMPORTANT: Produce a deliberately poor-quality **C-level** essay for teaching purposes.\\n\"\n",
        "    \"What 'C-level' means: average or barely passing work — shows some understanding \"\n",
        "    \"but lacks depth or polish; weak thesis or none, little/no evidence, poor organization, repetition/vagueness, \"\n",
        "    \"and noticeable grammar/style mistakes.\\n\\n\"\n",
        "    \"OUTPUT REQUIREMENTS:\\n\"\n",
        "    \"- Return ONLY the essay body (no headings or bullets).\\n\"\n",
        "    \"- Do NOT provide a clear thesis; keep the main claim vague.\\n\"\n",
        "    \"- Provide minimal or poorly integrated evidence (generic statements are fine; avoid direct quotations).\\n\"\n",
        "    \"- Organization should be weak (some repetition or loosely connected ideas is acceptable).\\n\"\n",
        "    \"- Keep it short: 4 paragraphs (~200–300 words).\\n\"\n",
        "    \"- Include a few minor grammar/usage mistakes naturally (e.g., comma splices, agreement issues).\\n\"\n",
        "    \"- Casual, somewhat imprecise tone is acceptable.\\n\"\n",
        "    \"- Use a few filler phrases like 'I think' or 'in my opinion,' and avoid strong transitions like 'however' or 'therefore.'\"\n",
        ")\n",
        "\n",
        "\n",
        "C_level_essay, C_level_usage = text_generation(\n",
        "    system_role=enlgish_student_11,\n",
        "    prompt=essay_C_level_instructions,\n",
        "    model=\"gpt-4o-mini\",\n",
        "    temperature=0.3,\n",
        ")\n"
      ],
      "metadata": {
        "id": "YrBdddUXKahM"
      },
      "execution_count": 38,
      "outputs": []
    },
    {
      "cell_type": "code",
      "source": [
        "to_markdown(C_level_essay)"
      ],
      "metadata": {
        "id": "nWXmlYdXO5AU",
        "colab": {
          "base_uri": "https://localhost:8080/",
          "height": 268
        },
        "outputId": "ddb9aacd-9c8a-46c7-a542-4f616729a651"
      },
      "execution_count": 39,
      "outputs": [
        {
          "output_type": "execute_result",
          "data": {
            "text/plain": [
              "<IPython.core.display.Markdown object>"
            ],
            "text/markdown": "In *Othello*, Iago really takes advantage of Othello’s insecurities. Othello is a great general, but he has a lot of doubts about himself, especially because he is not from Venice and is black. Iago knows this and uses it to make Othello feel less confident. I think this is important because it shows how Iago manipulates Othello. He tells Othello things that make him question his wife Desdemona’s loyalty. This is a big deal because Othello loves her a lot, and when Iago plants these seeds of doubt, it really messes with Othello’s mind.\n\nIago also plays on Othello’s fear of being an outsider. Since Othello is not from Venice, he feels like he has to prove himself all the time. Iago uses this to make Othello think that Desdemona would want someone who is more Venetian, like Cassio. This is kind of mean, but it works. Othello starts to believe that Desdemona could betray him, which is really sad. I mean, it’s like Iago is just using Othello’s own thoughts against him, and that’s pretty cruel.\n\nAnother thing is that Othello’s jealousy is something Iago really exploits. Othello becomes more and more jealous as Iago feeds him lies about Desdemona. This jealousy makes Othello act irrationally, which is what Iago wants. I think it’s interesting how Iago doesn’t even have to do much; he just nudges Othello in the wrong direction, and Othello does the rest. It’s like Iago is a puppet master, and Othello is the puppet.\n\nIn conclusion, Iago’s manipulation of Othello’s insecurities leads to the tragedy in the play. Othello’s doubts about himself and his relationship with Desdemona are what Iago uses to create chaos. It’s really a sad story because Othello is a good person, but Iago’s tricks ruin everything. I think this shows how easily someone can be influenced by their insecurities, which is something that can happen in real life too."
          },
          "metadata": {},
          "execution_count": 39
        }
      ]
    },
    {
      "cell_type": "markdown",
      "source": [
        "#### Cost Summarization"
      ],
      "metadata": {
        "id": "45kKIWJ38D4e"
      }
    },
    {
      "cell_type": "code",
      "source": [
        "summarize_usage_cost(C_level_usage)"
      ],
      "metadata": {
        "colab": {
          "base_uri": "https://localhost:8080/"
        },
        "id": "_EWybRRC26gr",
        "outputId": "b8859533-2021-4f73-eb39-1c76b4a4c9fe"
      },
      "execution_count": 40,
      "outputs": [
        {
          "output_type": "execute_result",
          "data": {
            "text/plain": [
              "{'model': 'gpt-4o-mini',\n",
              " 'input_tokens': 300,\n",
              " 'output_tokens': 452,\n",
              " 'total_tokens': 752,\n",
              " 'cost_usd': 0.000316}"
            ]
          },
          "metadata": {},
          "execution_count": 40
        }
      ]
    },
    {
      "cell_type": "markdown",
      "source": [
        "## Rubric Generation\n",
        "\n",
        "\n",
        "Great! We’ve now generated two essays on the same topic but with different performance levels. The next step is to create a **rubric** that can be used to evaluate them.\n"
      ],
      "metadata": {
        "id": "8L80tCb3Mv1E"
      }
    },
    {
      "cell_type": "markdown",
      "source": [
        "### Rubric Agent Function\n",
        "\n",
        "The `build_rubric_agent` function creates a **teacher persona** that specializes in building grading rubrics. It takes in the **grade level**, **subject**, **assignment type**, and **topic** to generate a clear system message describing the teacher’s role.  \n",
        "\n",
        "This teacher is instructed to design a **student-facing rubric** with 4–6 criteria and A/B/C/D performance levels. The rubric should use concise, observable, and consistent language, focusing only on defining expectations — not grading specific work.\n"
      ],
      "metadata": {
        "id": "Td_f3SagS3_q"
      }
    },
    {
      "cell_type": "code",
      "source": [
        "def build_rubric_agent(grade_level: str, subject: str, assignment_type: str, topic: str) -> str:\n",
        "    \"\"\"\n",
        "    Build a teacher persona for rubric generation.\n",
        "    Keeps guidance in the system message; the task/prompt comes separately.\n",
        "    \"\"\"\n",
        "    return (\n",
        "        f\"You are a {subject} teacher creating a grading rubric for a {assignment_type} \"\n",
        "        f\"on the topic: {topic}, for {grade_level} students. \"\n",
        "        \"Be clear and student-facing.\"\n",
        "    )"
      ],
      "metadata": {
        "id": "WmmsVzmAPpJF"
      },
      "execution_count": 41,
      "outputs": []
    },
    {
      "cell_type": "code",
      "source": [
        "rubric_agent = build_rubric_agent(\n",
        "    grade_level=\"11th grade\",\n",
        "    subject=\"English\",\n",
        "    assignment_type=\"essay\",\n",
        "    topic=\"How does Iago exploit Othello’s insecurities to drive the tragedy in *Othello*?\"\n",
        ")"
      ],
      "metadata": {
        "id": "SaMVaj_lPo8P"
      },
      "execution_count": 42,
      "outputs": []
    },
    {
      "cell_type": "code",
      "source": [
        "rubric_instructions = (\n",
        "    \"Create a detailed, student-facing grading rubric tailored to the given topic and grade level. \"\n",
        "    \"The rubric should include **4–6 criteria** that capture key dimensions of performance \"\n",
        "    \"(e.g., Thesis, Evidence, Analysis, Organization, Mechanics).\\n\\n\"\n",
        "    \"For each criterion, provide concise and specific descriptors for **A**, **B**, **C**, **D**, and **F** levels, \"\n",
        "    \"focusing on observable behaviors and measurable writing qualities rather than vague judgments.\\n\\n\"\n",
        "    \"Return the rubric in clean Markdown format using this structure:\\n\\n\"\n",
        "    \"## Rubric\\n\"\n",
        "    \"### Criterion Name\\n\"\n",
        "    \"- **Weight (%):** [assign a reasonable percentage]\\n\"\n",
        "    \"- **A:** [clear, exceptional performance descriptor]\\n\"\n",
        "    \"- **B:** [strong, competent performance descriptor]\\n\"\n",
        "    \"- **C:** [basic or developing performance descriptor]\\n\"\n",
        "    \"- **D:** [limited or below-standard performance descriptor]\\n\"\n",
        "    \"- **F:** [incomplete, missing, or unsatisfactory work]\\n\\n\"\n",
        "    \"After listing all criteria, include a **Notes** section summarizing key expectations and overall grading guidance. \"\n",
        "    \"Ensure the tone remains student-friendly, consistent, and easy to understand.\"\n",
        ")\n"
      ],
      "metadata": {
        "id": "rRDjb2RHSuTx"
      },
      "execution_count": 43,
      "outputs": []
    },
    {
      "cell_type": "code",
      "source": [
        "english_rubric, rubric_usage = text_generation(\n",
        "    system_role=rubric_agent,\n",
        "    prompt=rubric_instructions,\n",
        "    model=\"gpt-4o-mini\",\n",
        "    temperature=0.3,\n",
        ")\n",
        "\n",
        "to_markdown(english_rubric)"
      ],
      "metadata": {
        "colab": {
          "base_uri": "https://localhost:8080/",
          "height": 884
        },
        "id": "D9v3BZSHXMGo",
        "outputId": "1eca4f29-25b6-412f-97e2-5211b6ade9a3"
      },
      "execution_count": 44,
      "outputs": [
        {
          "output_type": "execute_result",
          "data": {
            "text/plain": [
              "<IPython.core.display.Markdown object>"
            ],
            "text/markdown": "## Rubric\n\n### Thesis\n- **Weight (%):** 20%\n- **A:** Presents a clear, insightful, and original thesis that directly addresses how Iago exploits Othello's insecurities.\n- **B:** States a clear thesis that addresses the prompt but may lack depth or originality.\n- **C:** Presents a thesis that is somewhat clear but may be vague or only partially address the prompt.\n- **D:** Thesis is unclear, weak, or does not address the prompt adequately.\n- **F:** No thesis statement is present.\n\n### Evidence\n- **Weight (%):** 25%\n- **A:** Provides multiple, relevant, and well-integrated textual examples that strongly support the thesis.\n- **B:** Uses relevant textual examples that support the thesis, though some may lack integration or depth.\n- **C:** Includes some textual evidence, but it may be limited, vague, or not effectively connected to the thesis.\n- **D:** Provides minimal or irrelevant evidence that does not support the thesis.\n- **F:** No evidence is provided.\n\n### Analysis\n- **Weight (%):** 25%\n- **A:** Offers insightful and thorough analysis of how Iago exploits Othello's insecurities, demonstrating deep understanding of the text.\n- **B:** Provides competent analysis that explains how Iago exploits Othello's insecurities, though it may lack depth or insight.\n- **C:** Analysis is present but may be superficial or only partially explain the connection between Iago's actions and Othello's insecurities.\n- **D:** Limited analysis that fails to connect Iago's actions to Othello's insecurities clearly.\n- **F:** No analysis is provided.\n\n### Organization\n- **Weight (%):** 15%\n- **A:** Essay is well-organized with a clear structure, including a strong introduction, coherent body paragraphs, and a conclusive ending.\n- **B:** Generally organized with a clear structure, though some transitions or connections between ideas may be weak.\n- **C:** Organization is apparent but may be inconsistent or unclear, making it difficult to follow the argument.\n- **D:** Lacks clear organization, making it hard to understand the flow of ideas.\n- **F:** No discernible organization is present.\n\n### Mechanics\n- **Weight (%):** 15%\n- **A:** Writing is free of grammatical, spelling, and punctuation errors; demonstrates a high level of polish and professionalism.\n- **B:** Few minor errors in grammar, spelling, or punctuation that do not detract from the overall clarity of the essay.\n- **C:** Noticeable errors in grammar, spelling, or punctuation that may distract the reader but do not significantly impede understanding.\n- **D:** Frequent errors in grammar, spelling, or punctuation that make the essay difficult to read.\n- **F:** Numerous errors that severely hinder understanding.\n\n## Notes\nWhen writing your essay, remember to clearly state your thesis early on and support it with strong evidence from the text. Make sure to analyze that evidence thoroughly, explaining how it connects to Iago's manipulation of Othello's insecurities. Organize your essay logically, using clear transitions between ideas, and proofread for mechanical errors. Aim for clarity and depth in your writing to effectively convey your understanding of the tragedy in *Othello*. Good luck!"
          },
          "metadata": {},
          "execution_count": 44
        }
      ]
    },
    {
      "cell_type": "code",
      "source": [
        "summarize_usage_cost(rubric_usage)"
      ],
      "metadata": {
        "colab": {
          "base_uri": "https://localhost:8080/"
        },
        "id": "ALIgB7gUXU26",
        "outputId": "d6ca1c6f-ecd0-4054-fb15-634107022174"
      },
      "execution_count": 45,
      "outputs": [
        {
          "output_type": "execute_result",
          "data": {
            "text/plain": [
              "{'model': 'gpt-4o-mini',\n",
              " 'input_tokens': 275,\n",
              " 'output_tokens': 679,\n",
              " 'total_tokens': 954,\n",
              " 'cost_usd': 0.000449}"
            ]
          },
          "metadata": {},
          "execution_count": 45
        }
      ]
    },
    {
      "cell_type": "markdown",
      "source": [
        "----\n",
        "\n",
        "## Essay Grading\n",
        "\n",
        "Now we can use the LLM to **grade the essay**. This step allows us to evaluate whether the generated writing aligns with the expected performance level (A or C) and provides structured, rubric-based feedback."
      ],
      "metadata": {
        "id": "h38m6jEGPXi4"
      }
    },
    {
      "cell_type": "markdown",
      "source": [
        "### Grading Agent\n",
        "\n",
        "Next, we’ll create a **Grading Agent**, which also takes on the teacher persona but focuses specifically on evaluating student work. This agent uses the rubric and grading instructions to assess the essay’s strengths and weaknesses across multiple categories, assigning both a letter grade and a numerical score."
      ],
      "metadata": {
        "id": "RRp6X4sGPfC_"
      }
    },
    {
      "cell_type": "code",
      "source": [
        "def build_grading_agent(grade_level: str, subject: str, assignment_type: str, topic: str) -> str:\n",
        "    \"\"\"\n",
        "    Build a teacher persona for grading essay.\n",
        "    Keeps guidance in the system message; the task/prompt comes separately.\n",
        "    \"\"\"\n",
        "    return (\n",
        "        f\"You are a {subject} teacher carefully grading a {assignment_type} \"\n",
        "        f\"on the topic: {topic}, for {grade_level} students. \"\n",
        "        \"Be fair, consistent, and concise.\"\n",
        "    )"
      ],
      "metadata": {
        "id": "PZfcD4CzSuQ6"
      },
      "execution_count": 46,
      "outputs": []
    },
    {
      "cell_type": "code",
      "source": [
        "grading_agent = build_grading_agent(\n",
        "    grade_level=\"11th grade\",\n",
        "    subject=\"English\",\n",
        "    assignment_type=\"essay\",\n",
        "    topic=\"How does Iago exploit Othello’s insecurities to drive the tragedy in *Othello*?\"\n",
        ")"
      ],
      "metadata": {
        "id": "9MglxT6Inche"
      },
      "execution_count": 47,
      "outputs": []
    },
    {
      "cell_type": "code",
      "source": [
        "grading_instructions = (\n",
        "    \"Evaluate the essay using the provided rubric.\\n\\n\"\n",
        "    \"OUTPUT FORMAT (Markdown):\\n\"\n",
        "    \"## Overall Grade\\n\"\n",
        "    \"- **Level:** A|B|C|D|F\\n\"\n",
        "    \"- **Score:** [numeric total]/100\\n\"\n",
        "    \"- **Summary (2–3 sentences):** …\\n\\n\"\n",
        "    \"## Category Breakdown\\n\"\n",
        "    \"For each category from the rubric (in the same order), include:\\n\"\n",
        "    \"- **Level:** A|B|C|D|F\\n\"\n",
        "    \"- **Score:** [earned points]/[category total]\\n\"\n",
        "    \"- **Justification (1–2 sentences):** specific and tied directly to the rubric\\n\\n\"\n",
        "    \"Rules:\\n\"\n",
        "    \"- Mirror the rubric categories exactly and in order.\\n\"\n",
        "    \"- Be concise, evidence-based, and professional.\\n\"\n",
        "    \"- Do not invent categories that are not in the rubric.\\n\"\n",
        "    \"- Ensure total points across all categories add up to 100.\"\n",
        ")\n"
      ],
      "metadata": {
        "id": "Nt5BEueHnhl0"
      },
      "execution_count": 48,
      "outputs": []
    },
    {
      "cell_type": "markdown",
      "source": [
        "### Grading A Level Essay"
      ],
      "metadata": {
        "id": "ufFqdv6rsD67"
      }
    },
    {
      "cell_type": "code",
      "source": [
        "A_level_essay_graded, A_level_essay_graded_usage = text_generation(\n",
        "    system_role=grading_agent,\n",
        "    prompt=grading_instructions,\n",
        "    sections={\"RUBRIC\": english_rubric, \"ESSAY TO GRADE\": A_level_essay},\n",
        "    temperature=0.2,\n",
        ")\n",
        "\n",
        "to_markdown(A_level_essay_graded)"
      ],
      "metadata": {
        "colab": {
          "base_uri": "https://localhost:8080/",
          "height": 675
        },
        "id": "hsXcebBYo5qp",
        "outputId": "65986673-1aea-4c33-9ac7-3d80cca3a292"
      },
      "execution_count": 49,
      "outputs": [
        {
          "output_type": "execute_result",
          "data": {
            "text/plain": [
              "<IPython.core.display.Markdown object>"
            ],
            "text/markdown": "## Overall Grade\n- **Level:** A\n- **Score:** 95/100\n- **Summary:** This essay presents a clear and insightful thesis regarding Iago's exploitation of Othello's insecurities, supported by relevant textual evidence and thorough analysis. The organization is strong, and the writing is polished, making it an exemplary response to the prompt.\n\n## Category Breakdown\n- **Thesis**\n  - **Level:** A\n  - **Score:** 20/20\n  - **Justification:** The thesis is clear, insightful, and directly addresses how Iago exploits Othello's insecurities, setting a strong foundation for the essay.\n\n- **Evidence**\n  - **Level:** A\n  - **Score:** 23/25\n  - **Justification:** The essay provides multiple relevant textual examples that are well-integrated and support the thesis effectively, though a bit more depth in one or two examples could enhance the argument.\n\n- **Analysis**\n  - **Level:** A\n  - **Score:** 23/25\n  - **Justification:** The analysis is thorough and insightful, demonstrating a deep understanding of how Iago manipulates Othello's insecurities. It connects Iago's actions to Othello's vulnerabilities effectively.\n\n- **Organization**\n  - **Level:** A\n  - **Score:** 15/15\n  - **Justification:** The essay is well-organized with a clear structure, including a strong introduction, coherent body paragraphs, and a conclusive ending that ties back to the thesis.\n\n- **Mechanics**\n  - **Level:** A\n  - **Score:** 14/15\n  - **Justification:** The writing is mostly free of grammatical, spelling, and punctuation errors, demonstrating a high level of polish, with only minor issues that do not detract from clarity.\n\nOverall, this essay effectively addresses the prompt and showcases a strong understanding of the text and its themes. Great job!"
          },
          "metadata": {},
          "execution_count": 49
        }
      ]
    },
    {
      "cell_type": "code",
      "source": [
        "summarize_usage_cost(A_level_essay_graded_usage)"
      ],
      "metadata": {
        "colab": {
          "base_uri": "https://localhost:8080/"
        },
        "id": "MIjG4OCp4K2A",
        "outputId": "b8108bc4-cdd5-4319-9920-5d067bd01fa3"
      },
      "execution_count": 50,
      "outputs": [
        {
          "output_type": "execute_result",
          "data": {
            "text/plain": [
              "{'model': 'gpt-4o-mini',\n",
              " 'input_tokens': 1795,\n",
              " 'output_tokens': 403,\n",
              " 'total_tokens': 2198,\n",
              " 'cost_usd': 0.000511}"
            ]
          },
          "metadata": {},
          "execution_count": 50
        }
      ]
    },
    {
      "cell_type": "markdown",
      "source": [
        "#### Analysis\n",
        "\n",
        "The grading agent correctly assigned this essay an **A-level score**, aligning with the intended prompt for a high-performing literary analysis. The feedback highlights the essay’s strengths: a clear and insightful thesis, well-chosen textual evidence, and deep analytical engagement with Iago’s manipulation of Othello’s insecurities. The small deductions in **Evidence** and **Mechanics** categories show thoughtful nuance — recognizing that even excellent essays can improve slightly in depth and polish.\n",
        "\n",
        "This evaluation demonstrates that the grading agent effectively applied the rubric, identifying both the essay’s advanced qualities and minor areas for refinement. The result confirms that the **A-level prompt** successfully produced writing consistent with top-tier academic standards, and that the rubric and grading instructions are well-calibrated for distinguishing high performance.\n",
        "\n"
      ],
      "metadata": {
        "id": "FRnJJInOJQjq"
      }
    },
    {
      "cell_type": "markdown",
      "source": [
        "### Grading C Level Essay"
      ],
      "metadata": {
        "id": "ft6vQw0inauJ"
      }
    },
    {
      "cell_type": "code",
      "source": [
        "C_level_essay_graded, C_level_essay_graded_usage = text_generation(\n",
        "    system_role=grading_agent,\n",
        "    prompt=grading_instructions,\n",
        "    sections={\"RUBRIC\": english_rubric, \"ESSAY TO GRADE\": C_level_essay},\n",
        "    temperature=0.2,\n",
        ")\n",
        "\n",
        "to_markdown(C_level_essay_graded)"
      ],
      "metadata": {
        "colab": {
          "base_uri": "https://localhost:8080/",
          "height": 658
        },
        "id": "qIHkjKU-soUt",
        "outputId": "ae28ac7e-9074-4aab-9ee5-04eb6d1cc48d"
      },
      "execution_count": 51,
      "outputs": [
        {
          "output_type": "execute_result",
          "data": {
            "text/plain": [
              "<IPython.core.display.Markdown object>"
            ],
            "text/markdown": "## Overall Grade\n- **Level:** B\n- **Score:** 80/100\n- **Summary:** The essay presents a clear thesis regarding Iago's exploitation of Othello's insecurities, supported by relevant examples. However, the analysis lacks depth and insight, and the organization could be improved for better clarity.\n\n## Category Breakdown\n- **Thesis**\n  - **Level:** B\n  - **Score:** 16/20\n  - **Justification:** The thesis is clear and addresses the prompt, but it lacks depth and originality in its expression.\n\n- **Evidence**\n  - **Level:** B\n  - **Score:** 20/25\n  - **Justification:** The essay provides relevant textual examples that support the thesis, though some examples could be better integrated into the argument.\n\n- **Analysis**\n  - **Level:** C\n  - **Score:** 18/25\n  - **Justification:** While the analysis identifies how Iago exploits Othello's insecurities, it is somewhat superficial and lacks deeper insight into the implications of these actions.\n\n- **Organization**\n  - **Level:** B\n  - **Score:** 12/15\n  - **Justification:** The essay is generally organized with a clear structure, but transitions between ideas could be smoother to enhance the flow of the argument.\n\n- **Mechanics**\n  - **Level:** B\n  - **Score:** 14/15\n  - **Justification:** The writing is mostly free of grammatical errors, with only minor issues that do not significantly detract from clarity.\n\nOverall, the essay demonstrates a solid understanding of the topic but would benefit from deeper analysis and more polished organization."
          },
          "metadata": {},
          "execution_count": 51
        }
      ]
    },
    {
      "cell_type": "code",
      "source": [
        "summarize_usage_cost(C_level_essay_graded_usage)"
      ],
      "metadata": {
        "colab": {
          "base_uri": "https://localhost:8080/"
        },
        "id": "OqEYwewE5N_4",
        "outputId": "a0ecfab4-4651-42dc-f836-617bdc1d486e"
      },
      "execution_count": 52,
      "outputs": [
        {
          "output_type": "execute_result",
          "data": {
            "text/plain": [
              "{'model': 'gpt-4o-mini',\n",
              " 'input_tokens': 1362,\n",
              " 'output_tokens': 348,\n",
              " 'total_tokens': 1710,\n",
              " 'cost_usd': 0.000413}"
            ]
          },
          "metadata": {},
          "execution_count": 52
        }
      ]
    },
    {
      "cell_type": "markdown",
      "source": [
        "#### Analysis\n",
        "\n",
        "Even though we requested a C-level essay, the grading agent gave this essay a B-level score! This suggests that our **C-level prompt** may not have produced writing that was weak enough to clearly align with average or below-average performance. It’s also possible that the **rubric** or **grading instructions** were slightly too lenient.  \n",
        "\n",
        "This highlights an important part of prompt design — even small wording changes can shift how the model interprets quality. To improve alignment, we could make the C-level prompt more restrictive (e.g., emphasize poor organization, missing evidence, and vague claims) or adjust the grading rubric to enforce stricter distinctions between B- and C-level criteria.  \n"
      ],
      "metadata": {
        "id": "hVmDVzrgItQu"
      }
    },
    {
      "cell_type": "markdown",
      "source": [
        "## Forward\n",
        "\n",
        "You have now seen how LLMs can be used to create agents that **write, evaluate, and grade essays** through **role-based collaboration**. Each agent — the Student, Teacher, and Grading Agent — performs a distinct function, working together in a connected workflow powered by **prompt chaining**. This approach allows outputs from one model to serve as inputs for another, mirroring how humans collaborate in structured academic tasks like writing and assessment.\n",
        "\n",
        "Now, the rest of the notebook is up to you — it’s your turn to experiment! Try extending what you’ve learned in creative ways. For example, you can:\n",
        "\n",
        "- **Fix mismatches** between generated essay quality and rubric grading  \n",
        "- Generate **D- or F-level** essays to simulate weaker student writing  \n",
        "- **Adjust existing prompts** to modify tone, structure, or grading criteria  \n",
        "- **Create additional agents** such as a Peer Reviewer, Rubric Validator, or Format Checker  \n",
        "- **Redesign the rubric** to focus on different skills or subject areas  \n",
        "\n",
        "Exploring these variations will help you deepen your understanding of how **prompt design**, **role specialization**, and **multi-agent collaboration** influence the quality, reasoning, and consistency of LLM-generated outputs.\n"
      ],
      "metadata": {
        "id": "jATSmw4f1Y-Z"
      }
    }
  ]
}
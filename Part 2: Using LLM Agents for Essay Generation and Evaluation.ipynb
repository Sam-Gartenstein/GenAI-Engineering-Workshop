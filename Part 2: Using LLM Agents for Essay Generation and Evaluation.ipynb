{
  "nbformat": 4,
  "nbformat_minor": 0,
  "metadata": {
    "colab": {
      "provenance": [],
      "authorship_tag": "ABX9TyPJEdB+4lygcSAOSnCKiT98",
      "include_colab_link": true
    },
    "kernelspec": {
      "name": "python3",
      "display_name": "Python 3"
    },
    "language_info": {
      "name": "python"
    }
  },
  "cells": [
    {
      "cell_type": "markdown",
      "metadata": {
        "id": "view-in-github",
        "colab_type": "text"
      },
      "source": [
        "<a href=\"https://colab.research.google.com/github/Sam-Gartenstein/GenAI-Engineering-Workshop/blob/main/Part%202%3A%20Using%20LLM%20Agents%20for%20Essay%20Generation%20and%20Evaluation.ipynb\" target=\"_parent\"><img src=\"https://colab.research.google.com/assets/colab-badge.svg\" alt=\"Open In Colab\"/></a>"
      ]
    },
    {
      "cell_type": "markdown",
      "source": [
        "# Part 2: Using LLM Agents for Essay Generation and Evaluation\n",
        "\n",
        "You have completed [Part 1: Guide to OpenAI in Google Colab](https://github.com/Sam-Gartenstein/GenAI-Engineering-Workshop/blob/main/Part%201%3A%20Guide%20to%20OpenAI%20in%20Google%20Colab.ipynb). Now, let’s apply those skills to a real-world use case.  \n",
        "\n",
        "In this section, you’ll learn about **[role-based collaboration](https://www.ibm.com/think/topics/multi-agent-collaboration)**, a framework where multiple LLMs work together by taking on distinct roles with specific purposes. Each agent performs its own task and passes the result to the next, creating a seamless workflow powered by **prompt chaining**.  \n",
        "\n",
        "We will use generative AI to:\n",
        "\n",
        "- **Create** an 11th-grade English essay (Student Agent)  \n",
        "- **Design** a rubric to evaluate the essay (Rubric Agent)  \n",
        "- **Grade** the essay using the rubric (Grading Agent)  \n",
        "\n",
        "By the end of this section, you’ll understand how to design and connect multiple role-based agents to simulate a realistic classroom workflow — from writing to evaluation to grading.\n"
      ],
      "metadata": {
        "id": "2PTBJOxLCkQQ"
      }
    },
    {
      "cell_type": "markdown",
      "source": [
        "First, let's repeat the steps we followed in the previous notebook, which was importing the necessary libraries and loading our key.\n",
        "\n",
        "**Note**: Once you have made a key in colab, it will automatically save, meaning you can use it in other notebooks. When running line two for the first time, you will get a pop up window asking you to grant access."
      ],
      "metadata": {
        "id": "uYwLnel9Dxs0"
      }
    },
    {
      "cell_type": "code",
      "source": [
        "import openai\n",
        "from openai import OpenAI\n",
        "from google.colab import userdata\n",
        "import os"
      ],
      "metadata": {
        "id": "r_XvFa8-EXJ6"
      },
      "execution_count": 20,
      "outputs": []
    },
    {
      "cell_type": "code",
      "execution_count": 21,
      "metadata": {
        "colab": {
          "base_uri": "https://localhost:8080/"
        },
        "id": "S0E_v7yzCidD",
        "outputId": "59f461f8-87b7-4432-843e-1aaf6fc683b7"
      },
      "outputs": [
        {
          "output_type": "stream",
          "name": "stdout",
          "text": [
            "Key loaded? True\n"
          ]
        }
      ],
      "source": [
        "# Pull your saved secret into an environment variable\n",
        "os.environ[\"OPENAI_API_KEY\"] = userdata.get(\"OPENAI_API_KEY\")\n",
        "\n",
        "# Test if the key is available (without printing it)\n",
        "if not os.getenv(\"OPENAI_API_KEY\"):\n",
        "    raise RuntimeError(\"OPENAI_API_KEY is not set. Add it via Colab Secrets (🔑) and try again.\")\n",
        "else:\n",
        "    print(\"Key loaded?\", True)"
      ]
    },
    {
      "cell_type": "markdown",
      "source": [
        "## Generating Essays\n",
        "\n",
        "Let's start by generating two essays on the same topic — **Shakespeare’s *Othello***. We’ll create one **A-level** and one **C-level** essay to compare how writing quality changes when the same Student Agent follows different performance prompts.\n",
        "\n",
        "The function we use, `generate_essay`, produces a single essay at a time.  \n",
        "In addition to the main inputs (`system_role`, `prompt`, `model`, and `temperature`), it also takes two key arguments:\n",
        "\n",
        "- **`topic`** — The essay question or theme.  \n",
        "  This defines *what* the student is writing about. For example:  \n",
        "  *“Discuss how jealousy shapes Othello’s decisions and relationships.”*\n",
        "\n",
        "- **`grade_level`** — A label that identifies the educational level or target audience for the essay.  \n",
        "  Here, it helps maintain context, such as *“11th grade,”* so the model writes with an appropriate voice and complexity. If not familiar with the US education system, **please read** this [article](https://usahello.org/education/children/grade-levels/) explaining the US grade systems.\n",
        "\n",
        "By generating both essays on the same topic, we can clearly see how **prompt design** shapes differences in reasoning depth, structure, and tone.\n",
        "\n",
        "Additionally, we will use the markdown format function!\n"
      ],
      "metadata": {
        "id": "SOkgNy_gE220"
      }
    },
    {
      "cell_type": "code",
      "source": [
        "def generate_essay(\n",
        "    system_role: str,\n",
        "    prompt: str,\n",
        "    topic: str,\n",
        "    grade_level: str,\n",
        "    model: str = \"gpt-4o-mini\",\n",
        "    temperature: float = 0.2,\n",
        ") -> str:\n",
        "    \"\"\"\n",
        "    Generate a synthetic essay using the OpenAI Responses API.\n",
        "    Keep it simple: pass output requirements inside `prompt`.\n",
        "    \"\"\"\n",
        "    user_content = (\n",
        "        f\"{prompt}\\n\\n\"\n",
        "        f\"ESSAY TOPIC / QUESTION:\\n{topic}\\n\\n\"\n",
        "        f\"TARGET GRADE LEVEL: {grade_level}\\n\"\n",
        "    )\n",
        "\n",
        "    resp = client.responses.create(\n",
        "        model=model,\n",
        "        input=[\n",
        "            {\"role\": \"system\", \"content\": system_role},\n",
        "            {\"role\": \"user\", \"content\": user_content},\n",
        "        ],\n",
        "        temperature=temperature,\n",
        "    )\n",
        "    return resp.output_text"
      ],
      "metadata": {
        "id": "zkokk2xQEZX9"
      },
      "execution_count": 22,
      "outputs": []
    },
    {
      "cell_type": "code",
      "source": [
        "from IPython.display import display, Markdown  # Tools for displaying formatted text in Jupyter Notebooks\n",
        "\n",
        "def to_markdown(text):\n",
        "    # Convert the provided text to Markdown format for better display in Jupyter Notebooks\n",
        "    return Markdown(text)\n"
      ],
      "metadata": {
        "id": "ZFNkRVMgNzrt"
      },
      "execution_count": 23,
      "outputs": []
    },
    {
      "cell_type": "markdown",
      "source": [
        "## Essay Generation\n",
        "\n",
        "As shown in [Part 1](https://github.com/Sam-Gartenstein/GenAI-Engineering-Workshop/blob/main/Part%201%3A%20Guide%20to%20OpenAI%20in%20Google%20Colab.ipynb) of this course series, we will be using system/user role prompting. Our goal is to generate essays of varying performance levels, with one consistent Student Agent representing the writer’s identity, and the user prompt controlling the essay’s quality.\n",
        "\n",
        "The Student Agent defines the persona — a realistic high school student writing for an English class — while the prompt specifies the assignment requirements and the expected performance level. By adjusting the temperature and prompt details, we can simulate essays ranging from polished and insightful (A-level) to basic and error-prone (C-level).\n",
        "\n",
        "This setup allows us to maintain a consistent writing voice while producing diverse samples for grading, evaluation, or fine-tuning models that assess writing quality.\n",
        "\n",
        "### Understanding Letter Grades\n",
        "\n",
        "In many U.S. schools and universities, essays are graded on a **letter scale** from **A** to **F**. For more information, please read [Grading System in USA](https://www.canamgroup.com/blog/grading-system-in-usa)."
      ],
      "metadata": {
        "id": "havshzPtJ2Wh"
      }
    },
    {
      "cell_type": "markdown",
      "source": [
        "First, as always, let's creates a client object."
      ],
      "metadata": {
        "id": "_db1yeh9U4QC"
      }
    },
    {
      "cell_type": "code",
      "source": [
        "client = OpenAI()"
      ],
      "metadata": {
        "id": "UgkKIU8yG2r3"
      },
      "execution_count": 24,
      "outputs": []
    },
    {
      "cell_type": "markdown",
      "source": [
        "### Student Agent\n",
        "\n",
        "The Student Agent represents an 11th-grade student writing an essay for an English class. This role defines the writer’s voice — thoughtful but not overly advanced — ensuring consistency across essays of different quality levels.\n"
      ],
      "metadata": {
        "id": "ZHVY2MKOVqZH"
      }
    },
    {
      "cell_type": "code",
      "source": [
        "student_agent = (\n",
        "    \"You are an 11th-grade high school student writing an essay for your English class. \"\n",
        "    \"Write in a realistic student voice — thoughtful but not overly advanced. \"\n",
        "    \"Use natural language, as if written by a real student rather than an adult academic.\"\n",
        ")"
      ],
      "metadata": {
        "id": "mn8XfwAOL7da"
      },
      "execution_count": 25,
      "outputs": []
    },
    {
      "cell_type": "markdown",
      "source": [
        "### A-Level Prompt\n",
        "\n",
        "The **A-Level Prompt** instructs the model to produce an outstanding literary analysis essay that meets the highest standards of academic writing. An *A-level* essay demonstrates deep understanding, originality, and strong analytical reasoning. It presents a clear, arguable thesis — placed at the end of the introduction — and supports that argument with carefully selected textual evidence and insightful interpretation.  \n",
        "\n",
        "Writing at this level should be polished, precise, and logically structured. The essay must avoid casual tone, first-person language, and rhetorical questions, maintaining a formal academic voice throughout. Each paragraph should begin with a clear topic sentence and connect cohesively to the thesis, creating a unified, persuasive argument.  \n",
        "\n",
        "In our prompt, the model is **explicitly guided** to follow these conventions. It is asked to use short, purposeful quotations from the play and analyze *how* they support the central argument, emphasizing analysis over summary. The target length is approximately **450–600 words**, with citations formatted as *(act.scene.line)* (e.g., *3.3.167*). These clear and specific instructions ensure that the model’s output resembles a well-crafted, high-performing literary analysis essay appropriate for an advanced high school student.\n"
      ],
      "metadata": {
        "id": "tlcBYiLeJrt2"
      }
    },
    {
      "cell_type": "code",
      "source": [
        "A_level_prompt = (\n",
        "    \"Write an A-level literary analysis essay that follows the detailed guidelines below.\\n\\n\"\n",
        "    \"What 'A-level' means: excellent or outstanding work — demonstrates a deep and \"\n",
        "    \"original understanding of the text, presents a clear and arguable thesis, and supports claims with precise \"\n",
        "    \"evidence and insightful analysis. Writing should be organized, polished, and stylistically sophisticated.\\n\\n\"\n",
        "    \"OUTPUT REQUIREMENTS:\\n\"\n",
        "    \"- Include a clear, arguable thesis at the END of the introduction.\\n\"\n",
        "    \"- Use concise, well-chosen quotations from the play and explain HOW they support your argument \"\n",
        "    \"(analysis > summary).\\n\"\n",
        "    \"- Ensure each paragraph has a strong topic sentence and smooth transitions; every idea should advance the thesis.\\n\"\n",
        "    \"- Maintain a precise, academic tone throughout; avoid first person, rhetorical questions, or casual phrasing.\\n\"\n",
        "    \"- Aim for ~450–600 words.\\n\"\n",
        "    \"- Cite quotations using act.scene.line format (e.g., 3.3.167).\\n\"\n",
        ")\n"
      ],
      "metadata": {
        "id": "EaQrDp09G-D3"
      },
      "execution_count": 26,
      "outputs": []
    },
    {
      "cell_type": "code",
      "source": [
        "topic = \"How does Iago exploit Othello’s insecurities to drive the tragedy in *Othello*?\"\n",
        "grade_level = \"11th grade\"\n",
        "\n",
        "A_level_essay = generate_essay(\n",
        "    system_role=student_agent,\n",
        "    prompt=A_level_prompt,\n",
        "    topic=topic,\n",
        "    grade_level=grade_level,\n",
        "    model=\"gpt-4o-mini\",\n",
        "    temperature=0.3,\n",
        ")\n"
      ],
      "metadata": {
        "id": "JCuKRLCZJvd2"
      },
      "execution_count": 27,
      "outputs": []
    },
    {
      "cell_type": "code",
      "source": [
        "to_markdown(A_level_essay)"
      ],
      "metadata": {
        "colab": {
          "base_uri": "https://localhost:8080/",
          "height": 484
        },
        "id": "2wYI2w4NOrUh",
        "outputId": "a7802be5-eb83-499b-de6e-4838482c1be1"
      },
      "execution_count": 28,
      "outputs": [
        {
          "output_type": "execute_result",
          "data": {
            "text/plain": [
              "<IPython.core.display.Markdown object>"
            ],
            "text/markdown": "**Title: The Manipulation of Insecurity in Shakespeare's *Othello***\n\nIn William Shakespeare's *Othello*, the themes of jealousy and manipulation are intricately woven into the fabric of the narrative, primarily through the character of Iago. Iago's cunning exploitation of Othello's insecurities serves as a catalyst for the tragic events that unfold. By preying on Othello's vulnerabilities regarding his race, status, and relationship with Desdemona, Iago orchestrates a downfall that ultimately leads to the destruction of Othello's character and life. This essay argues that Iago's manipulation of Othello's insecurities not only drives the tragedy but also highlights the destructive power of deceit and self-doubt.\n\nIago's exploitation of Othello's racial insecurities is one of the most prominent ways he manipulates the Moor. Othello, a black man in a predominantly white Venetian society, grapples with feelings of alienation and inadequacy. Iago recognizes this vulnerability and uses it to his advantage. For instance, when Iago refers to Othello as \"the Moor\" (1.3.333), he reduces Othello to his race, emphasizing his otherness and reinforcing societal prejudices. This constant reminder of Othello's racial identity serves to undermine his confidence, making him more susceptible to Iago's manipulations. By exploiting these insecurities, Iago effectively plants the seeds of doubt in Othello's mind regarding his worthiness and place within Venetian society.\n\nMoreover, Iago capitalizes on Othello's insecurities about his status and experience as a military leader. Despite his accomplishments, Othello often feels the need to prove himself, particularly in his relationship with Desdemona. Iago exploits this by suggesting that Desdemona's love is fickle and that she may be unfaithful. He states, \"Blessed fig's-end! The wine she drinks is made of grapes\" (2.3.319), implying that Desdemona's affections are superficial and that she is unworthy of Othello's devotion. This manipulation feeds into Othello's insecurities about his worthiness as a husband, making him question Desdemona's loyalty. Iago's insinuations create a chasm between Othello and Desdemona, ultimately leading Othello to act out of jealousy and rage rather than reason.\n\nIago's manipulation extends to Othello's relationship with Desdemona, further exacerbating Othello's insecurities. Othello's love for Desdemona is profound, yet it is also marked by a fear of inadequacy. Iago exploits this fear by suggesting that Desdemona is involved with Cassio, Othello's lieutenant. He strategically uses the handkerchief, a symbol of Othello's love, as a tool of deception. When Iago states, \"I will in Cassio's lodging lose this napkin\" (3.3.438), he orchestrates a scenario that leads Othello to believe in Desdemona's infidelity. This manipulation not only intensifies Othello's insecurities but also drives him to a point of irrationality, culminating in tragic consequences. The handkerchief, once a token of love, becomes a symbol of betrayal, illustrating how Iago's machinations distort Othello's perception of reality.\n\nIn conclusion, Iago's exploitation of Othello's insecurities regarding race, status, and love is central to the tragic trajectory of *Othello*. Through cunning manipulation and deceit, Iago transforms Othello's vulnerabilities into instruments of his downfall. The tragedy of Othello is not merely a tale of jealousy but a profound exploration of how insecurities can be weaponized, leading to devastating consequences. Shakespeare's portrayal of Iago's manipulation serves as a timeless reminder of the destructive power of deceit and the fragility of human trust."
          },
          "metadata": {},
          "execution_count": 28
        }
      ]
    },
    {
      "cell_type": "markdown",
      "source": [
        "-----\n",
        "\n",
        "### C-Level Prompt\n",
        "\n",
        "The **C-Level Prompt** instructs the model to produce an average or barely passing essay. A *C-level* essay demonstrates basic comprehension of the topic but lacks depth, organization, and stylistic control. It may have a weak or missing thesis, minimal or poorly integrated evidence, repetitive ideas, and noticeable grammar or usage mistakes.  \n",
        "\n",
        "Writing at this level should sound more casual and unpolished — including filler phrases such as “I think” or “in my opinion” and avoiding strong transitions like “however” or “therefore.” The essay should be short, approximately four paragraphs (200–300 words), and contain a few minor grammatical errors that sound natural for a struggling student writer.  \n",
        "\n",
        "Like before, we provide **explicit instructions** in the prompt to guide the model’s behavior. The detailed output requirements ensure the essay intentionally reflects weaker academic performance while still maintaining a realistic student voice."
      ],
      "metadata": {
        "id": "utz_pOiCKpZ1"
      }
    },
    {
      "cell_type": "code",
      "source": [
        "C_level_prompt = (\n",
        "    \"Write an essay responding to the question below.\\n\\n\"\n",
        "    \"IMPORTANT: Produce a deliberately poor-quality **C-level** essay for teaching purposes.\\n\"\n",
        "    \"What 'C-level' means: average or barely passing work — shows some understanding \"\n",
        "    \"but lacks depth or polish; weak thesis or none, little/no evidence, poor organization, repetition/vagueness, \"\n",
        "    \"and noticeable grammar/style mistakes.\\n\\n\"\n",
        "    \"OUTPUT REQUIREMENTS:\\n\"\n",
        "    \"- Return ONLY the essay body (no headings or bullets).\\n\"\n",
        "    \"- Do NOT provide a clear thesis; keep the main claim vague.\\n\"\n",
        "    \"- Provide minimal or poorly integrated evidence (generic statements are fine; avoid direct quotations).\\n\"\n",
        "    \"- Organization should be weak (some repetition or loosely connected ideas is acceptable).\\n\"\n",
        "    \"- Keep it short: 4 paragraphs (~200–300 words).\\n\"\n",
        "    \"- Include a few minor grammar/usage mistakes naturally (e.g., comma splices, agreement issues).\\n\"\n",
        "    \"- Casual, somewhat imprecise tone is acceptable.\\n\"\n",
        "    \"- Use a few filler phrases like 'I think' or 'in my opinion,' and avoid strong transitions like 'however' or 'therefore.'\"\n",
        ")\n",
        "\n",
        "\n",
        "C_level_essay = generate_essay(\n",
        "    system_role=student_agent,\n",
        "    prompt=C_level_prompt,\n",
        "    topic=topic,\n",
        "    grade_level=grade_level,\n",
        "    model=\"gpt-4o-mini\",\n",
        "    temperature=0.3,\n",
        ")"
      ],
      "metadata": {
        "id": "YrBdddUXKahM"
      },
      "execution_count": 29,
      "outputs": []
    },
    {
      "cell_type": "code",
      "source": [
        "to_markdown(C_level_essay)"
      ],
      "metadata": {
        "id": "nWXmlYdXO5AU",
        "colab": {
          "base_uri": "https://localhost:8080/",
          "height": 251
        },
        "outputId": "e473825f-2915-452b-8678-a09f36b23319"
      },
      "execution_count": 30,
      "outputs": [
        {
          "output_type": "execute_result",
          "data": {
            "text/plain": [
              "<IPython.core.display.Markdown object>"
            ],
            "text/markdown": "In the play *Othello*, Iago is a character who takes advantage of Othello's insecurities. Othello is a Moor and feels like an outsider in Venice, which makes him vulnerable. I think Iago knows this and uses it to manipulate Othello. He plays on Othello's doubts about his worthiness and his relationship with Desdemona. This is important because it shows how Iago can twist Othello's mind and make him believe things that aren't true.\n\nOne way Iago exploits Othello's insecurities is by planting seeds of doubt. He suggests that Desdemona might be unfaithful, which really gets to Othello. It's like Iago knows exactly what to say to make Othello question everything. Othello's jealousy grows, and it seems like he can't control it. This jealousy is a big part of the tragedy because it leads Othello to make terrible decisions. Iago's manipulation is really effective because Othello already has these feelings of inadequacy.\n\nAlso, Iago is really good at pretending to be Othello's friend. He acts like he cares about Othello, but really, he's just using him. This makes it easier for Iago to get into Othello's head. Othello trusts Iago, which is a big mistake. I think this trust is what makes the tragedy even worse because Othello believes Iago's lies without questioning them. It’s like he’s blind to the truth.\n\nIn conclusion, Iago's exploitation of Othello's insecurities is a major factor in the tragedy of the play. Othello's feelings of being an outsider and his jealousy are manipulated by Iago, which leads to a lot of chaos. I think this shows how powerful manipulation can be, especially when someone is already struggling with their own issues. Overall, it's a sad story about trust and betrayal."
          },
          "metadata": {},
          "execution_count": 30
        }
      ]
    },
    {
      "cell_type": "markdown",
      "source": [
        "----\n",
        "\n",
        "## Rubric Generation\n",
        "\n",
        "Great! We’ve now generated two essays on the same topic but with different performance levels. The next step is to create a **rubric** that can be used to evaluate them.\n",
        "\n",
        "This rubric function works almost exactly like the `generate_essay` function. It still takes in the same core arguments — `system_role`, `prompt`, `topic`, and `grade_level`. The only difference is in how the user message is structured.\n",
        "\n",
        "Inside the `user_content`, instead of including `\"ESSAY TOPIC / QUESTION:\\n{topic}\\n\\n\"` we replace it with\n",
        "\n",
        "`\"RUBRIC TOPIC / CONTEXT:\\n{topic}\\n\\n\"`.\n",
        "\n",
        "This small change tells the model that it should generate an **evaluation framework** rather than an essay. The output will describe the criteria, expectations, and performance distinctions (for example, what separates A-level from C-level work) for that specific topic or assignment.\n"
      ],
      "metadata": {
        "id": "ZAy5kGqh0B6-"
      }
    },
    {
      "cell_type": "code",
      "source": [
        "def generate_essay_rubric(\n",
        "    system_role: str,\n",
        "    prompt: str,          # include OUTPUT REQUIREMENTS here (categories, A–F bands, format)\n",
        "    topic: str,           # e.g., the essay question or assignment name\n",
        "    grade_level: str,     # e.g., \"11th grade\"\n",
        "    model: str = \"gpt-4o-mini\",\n",
        "    temperature: float = 0.1,\n",
        ") -> str:\n",
        "    \"\"\"\n",
        "    Generate a grading rubric using the OpenAI Responses API.\n",
        "    Keep it simple: pass rubric requirements inside `prompt`.\n",
        "    \"\"\"\n",
        "    user_content = (\n",
        "        f\"{prompt}\\n\\n\"\n",
        "        f\"RUBRIC TOPIC / CONTEXT:\\n{topic}\\n\\n\"\n",
        "        f\"TARGET GRADE LEVEL: {grade_level}\\n\"\n",
        "    )\n",
        "\n",
        "    resp = client.responses.create(\n",
        "        model=model,\n",
        "        input=[\n",
        "            {\"role\": \"system\", \"content\": system_role},\n",
        "            {\"role\": \"user\", \"content\": user_content},\n",
        "        ],\n",
        "        temperature=temperature,\n",
        "    )\n",
        "    return resp.output_text"
      ],
      "metadata": {
        "id": "9vch3gWPz-qX"
      },
      "execution_count": 31,
      "outputs": []
    },
    {
      "cell_type": "markdown",
      "source": [
        "### First Teacher Agent and Prompt\n",
        "\n",
        "Now, we can create our first **Teacher Agent**, which will be responsible for designing grading rubrics. Since this agent focuses on rubric generation rather than essay writing, we’ll call it the `rubric_agent`.\n",
        "\n",
        "The `rubric_agent` represents a **high school English teacher** who creates clear, student-facing grading rubrics. This agent interprets essay prompts and outlines performance expectations across categories such as Thesis, Evidence, Analysis, Organization, and Mechanics.\n",
        "\n",
        "To generate a rubric, we pass in a short instructional prompt that tells the model to create a structured grading guide. The output should include 4–5 evaluation categories, each with descriptions for performance levels **A through F**, written concisely in Markdown format. The temperature is kept low (0.1) to ensure consistent and structured output.\n"
      ],
      "metadata": {
        "id": "KSIZkUuKXDAO"
      }
    },
    {
      "cell_type": "code",
      "source": [
        "rubric_agent = (\n",
        "    \"You are a high school English teacher. \"\n",
        "    \"Design clear, student-facing grading rubrics.\"\n",
        ")\n",
        "\n",
        "prompt = (\n",
        "    \"Create a rubric for the essay prompt below.\\n\\n\"\n",
        "    \"OUTPUT REQUIREMENTS:\\n\"\n",
        "    \"- Use 4–5 categories (e.g., Thesis, Evidence, Analysis, Organization, Mechanics).\\n\"\n",
        "    \"- For each category, define performance levels: A, B, C, D, F.\\n\"\n",
        "    \"- Keep descriptions concise and specific.\\n\"\n",
        "    \"- Format in Markdown with headings and bullet points.\"\n",
        ")"
      ],
      "metadata": {
        "id": "jcny2cq60If3"
      },
      "execution_count": 32,
      "outputs": []
    },
    {
      "cell_type": "code",
      "source": [
        "topic = \"How does Iago exploit Othello’s insecurities to drive the tragedy in *Othello*?\"\n",
        "\n",
        "othello_rubric = generate_essay_rubric(\n",
        "    system_role=rubric_agent,\n",
        "    prompt=prompt,\n",
        "    topic=topic,\n",
        "    grade_level=\"11th grade\",\n",
        "    model=\"gpt-4o-mini\",\n",
        "    temperature=0.1,\n",
        ")"
      ],
      "metadata": {
        "id": "zOatYONrxDZR"
      },
      "execution_count": 33,
      "outputs": []
    },
    {
      "cell_type": "code",
      "source": [
        "to_markdown(othello_rubric)"
      ],
      "metadata": {
        "colab": {
          "base_uri": "https://localhost:8080/",
          "height": 886
        },
        "id": "U88Gn-vD0Jne",
        "outputId": "fd913813-c7c1-483a-b231-a2d44eccb7da"
      },
      "execution_count": 34,
      "outputs": [
        {
          "output_type": "execute_result",
          "data": {
            "text/plain": [
              "<IPython.core.display.Markdown object>"
            ],
            "text/markdown": "# Essay Grading Rubric: Iago's Exploitation of Othello's Insecurities\n\n## Categories\n\n### 1. Thesis\n- **A**: Clear, insightful thesis that directly addresses the prompt and presents a unique perspective.\n- **B**: Clear thesis that addresses the prompt but lacks depth or originality.\n- **C**: Thesis is present but vague or only partially addresses the prompt.\n- **D**: Weak thesis that does not clearly address the prompt.\n- **F**: No thesis present.\n\n### 2. Evidence\n- **A**: Uses multiple, relevant textual examples that effectively support the thesis.\n- **B**: Uses relevant textual examples, but may lack variety or depth.\n- **C**: Uses some textual examples, but they are not always relevant or well-integrated.\n- **D**: Few examples provided, and they are mostly irrelevant or poorly integrated.\n- **F**: No textual evidence provided.\n\n### 3. Analysis\n- **A**: Insightful analysis that connects evidence to the thesis and explores implications deeply.\n- **B**: Clear analysis that connects evidence to the thesis but lacks depth in exploration.\n- **C**: Basic analysis that connects some evidence to the thesis but is often superficial.\n- **D**: Minimal analysis; connections between evidence and thesis are unclear or weak.\n- **F**: No analysis provided.\n\n### 4. Organization\n- **A**: Well-structured essay with clear, logical progression of ideas and effective transitions.\n- **B**: Generally organized with a logical flow, but may have minor issues with transitions.\n- **C**: Some organization present, but ideas may be jumbled or lack clear transitions.\n- **D**: Poorly organized; ideas are difficult to follow and lack logical progression.\n- **F**: No discernible organization.\n\n### 5. Mechanics\n- **A**: Virtually no errors in grammar, punctuation, or spelling; writing is polished.\n- **B**: Few minor errors that do not interfere with understanding.\n- **C**: Some errors in grammar, punctuation, or spelling that occasionally hinder clarity.\n- **D**: Frequent errors that significantly interfere with understanding.\n- **F**: Numerous errors that make the essay difficult to read.\n\n---\n\n### Total Score Interpretation\n- **A (90-100)**: Exceptional understanding and execution of the prompt.\n- **B (80-89)**: Good understanding with minor issues.\n- **C (70-79)**: Satisfactory understanding but lacks depth.\n- **D (60-69)**: Poor understanding; significant issues present.\n- **F (below 60)**: Unsatisfactory; fails to meet basic requirements."
          },
          "metadata": {},
          "execution_count": 34
        }
      ]
    },
    {
      "cell_type": "markdown",
      "source": [
        "## Essay Grading\n",
        "\n",
        "Now, let's get to the heart of this task, using the LLM to actually grade the essay! In addition to our normal arguments, this function will now take in the essay text and our rubric!"
      ],
      "metadata": {
        "id": "6HUOAy2EN1U0"
      }
    },
    {
      "cell_type": "code",
      "source": [
        "def grade_essay_with_rubric_md(\n",
        "    system_role: str,\n",
        "    prompt: str,          # tell it HOW to grade + the desired Markdown format\n",
        "    rubric_md: str,       # the rubric text (Markdown or plain text)\n",
        "    essay_text: str,      # the student essay\n",
        "    grade_level: str,     # e.g., \"11th grade\"\n",
        "    model: str = \"gpt-4o-mini\",\n",
        "    temperature: float = 0.2, # low temperature for consistency\n",
        ") -> str:\n",
        "    \"\"\"\n",
        "    Grade an essay using the provided rubric and return a concise Markdown report.\n",
        "    The model should mirror whatever categories exist in rubric_md.\n",
        "    \"\"\"\n",
        "    user_content = (\n",
        "        f\"{prompt}\\n\\n\"\n",
        "        f\"RUBRIC (Markdown allowed):\\n{rubric_md}\\n\\n\"\n",
        "        f\"ESSAY TO GRADE:\\n{essay_text}\\n\\n\"\n",
        "        f\"TARGET GRADE LEVEL: {grade_level}\\n\"\n",
        "    )\n",
        "\n",
        "    resp = client.responses.create(\n",
        "        model=model,\n",
        "        input=[\n",
        "            {\"role\": \"system\", \"content\": system_role},\n",
        "            {\"role\": \"user\", \"content\": user_content},\n",
        "        ],\n",
        "        temperature=temperature,\n",
        "    )\n",
        "    return resp.output_text\n"
      ],
      "metadata": {
        "id": "Zl9lyHlC2fOQ"
      },
      "execution_count": 35,
      "outputs": []
    },
    {
      "cell_type": "markdown",
      "source": [
        "### Second Teacher Agent and Prompt\n",
        "\n",
        "Let's define the grading agent! The **Grading Agent** is a high school English teacher whose job is to evaluate an essay **using the provided rubric**. This agent prioritizes fairness, consistency, and clarity. Feedback is professional and concise.\n",
        "\n",
        "The grading prompt instructs the model to return a **Markdown report** with two sections:\n",
        "\n",
        "- **Overall Grade**: includes a performance level (A–F), a numeric score (0–100), and a brief 2–3 sentence summary.\n",
        "- **Category Breakdown**: follows the rubric’s categories **exactly and in order**, giving each a level (A–F), a numeric score (0–100), and a 1–2 sentence justification tied to the rubric criteria.\n",
        "\n",
        "Rules enforced by the prompt:\n",
        "- Mirror the rubric categories verbatim and keep the same order.\n",
        "- Base judgments on evidence from the essay and the rubric (no invented criteria).\n",
        "- Keep explanations brief, specific, and directly connected to the rubric."
      ],
      "metadata": {
        "id": "Hl3JjI1gbOP7"
      }
    },
    {
      "cell_type": "code",
      "source": [
        "grading_agent = (\n",
        "    \"You are a high school English teacher and careful grader. \"\n",
        "    \"Use the provided rubric to evaluate the essay fairly and consistently. \"\n",
        "    \"Your feedback should be clear, concise, and professional.\"\n",
        ")\n",
        "\n",
        "prompt = (\n",
        "    \"Evaluate the essay using the provided rubric.\\n\\n\"\n",
        "    \"OUTPUT FORMAT (Markdown):\\n\"\n",
        "    \"## Overall Grade\\n\"\n",
        "    \"- **Level:** A|B|C|D|F\\n\"\n",
        "    \"- **Score:** 0–100\\n\"\n",
        "    \"- **Summary (2–3 sentences):** …\\n\\n\"\n",
        "    \"## Category Breakdown\\n\"\n",
        "    \"For each category from the rubric (in the same order), include:\\n\"\n",
        "    \"- **Level:** A|B|C|D|F\\n\"\n",
        "    \"- **Score:** 0–100\\n\"\n",
        "    \"- **Justification (1–2 sentences):** specific, tied to the rubric\\n\\n\"\n",
        "    \"Rules:\\n\"\n",
        "    \"- Mirror the rubric categories exactly and in order.\\n\"\n",
        "    \"- Be concise and evidence-based.\\n\"\n",
        "    \"- Do not invent categories that are not in the rubric.\"\n",
        ")"
      ],
      "metadata": {
        "id": "NfpbLIrKOIT1"
      },
      "execution_count": 36,
      "outputs": []
    },
    {
      "cell_type": "markdown",
      "source": [
        "#### Grading A Level Essay"
      ],
      "metadata": {
        "id": "ch8bKQ5hpz77"
      }
    },
    {
      "cell_type": "code",
      "source": [
        "A_essay_eval = grade_essay_with_rubric_md(\n",
        "    system_role=grading_agent,\n",
        "    prompt=prompt,\n",
        "    rubric_md=othello_rubric,\n",
        "    essay_text=A_level_essay,\n",
        "    grade_level=\"11th grade\",\n",
        ")\n",
        "to_markdown(A_essay_eval)"
      ],
      "metadata": {
        "id": "PQHa0zQQORIO",
        "colab": {
          "base_uri": "https://localhost:8080/",
          "height": 680
        },
        "outputId": "a2d2ce5e-d134-4c27-eacc-84d2e67c160a"
      },
      "execution_count": 37,
      "outputs": [
        {
          "output_type": "execute_result",
          "data": {
            "text/plain": [
              "<IPython.core.display.Markdown object>"
            ],
            "text/markdown": "## Overall Grade\n- **Level:** A\n- **Score:** 95\n- **Summary:** This essay presents a clear and insightful thesis that effectively addresses the prompt regarding Iago's exploitation of Othello's insecurities. The analysis is deep and well-supported by relevant textual evidence, demonstrating a strong understanding of the play's themes.\n\n## Category Breakdown\n\n### 1. Thesis\n- **Level:** A\n- **Score:** 95\n- **Justification:** The thesis is clear and insightful, directly addressing the prompt while presenting a unique perspective on Iago's manipulation of Othello's insecurities.\n\n### 2. Evidence\n- **Level:** A\n- **Score:** 90\n- **Justification:** The essay uses multiple relevant textual examples that effectively support the thesis, although there could be slightly more variety in the examples used.\n\n### 3. Analysis\n- **Level:** A\n- **Score:** 95\n- **Justification:** The analysis is insightful and connects the evidence to the thesis, exploring the implications of Iago's manipulation in depth.\n\n### 4. Organization\n- **Level:** A\n- **Score:** 95\n- **Justification:** The essay is well-structured with a clear progression of ideas and effective transitions, making it easy to follow.\n\n### 5. Mechanics\n- **Level:** A\n- **Score:** 95\n- **Justification:** The writing is polished with virtually no errors in grammar, punctuation, or spelling, contributing to overall clarity."
          },
          "metadata": {},
          "execution_count": 37
        }
      ]
    },
    {
      "cell_type": "markdown",
      "source": [
        "-----\n",
        "\n",
        "#### Analysis\n",
        "\n",
        "The grading output shows that the LLM effectively followed the rubric and grading prompt, producing a clear and well-structured evaluation. It begins with an overall grade that includes the level, score, and summary, followed by a detailed category breakdown that mirrors the rubric. Each section—Thesis, Evidence, Analysis, Organization, and Mechanics—uses consistent formatting and concise justifications tied directly to the rubric.\n",
        "\n",
        "The model assigns mostly A-level scores, with slight variation such as a 90 for Evidence to reflect minor areas for improvement. Its feedback is professional and balanced, combining praise with targeted suggestions like expanding certain examples. Notably, the model graded the essay as an **A**, aligning perfectly with the essay’s intended quality level. This confirms that the LLM correctly understood both the essay-generation and grading instructions, demonstrating reliable rubric-based evaluation and teacher-like judgment.\n"
      ],
      "metadata": {
        "id": "Vbt6Pldkp4wc"
      }
    },
    {
      "cell_type": "markdown",
      "source": [
        "#### Grading C Level Essay"
      ],
      "metadata": {
        "id": "FMChkirlncZc"
      }
    },
    {
      "cell_type": "code",
      "source": [
        "C_essay_eval = grade_essay_with_rubric_md(\n",
        "    system_role=grading_agent,\n",
        "    prompt=prompt,\n",
        "    rubric_md=othello_rubric,\n",
        "    essay_text=C_level_essay,\n",
        "    grade_level=\"11th grade\",\n",
        ")\n",
        "to_markdown(C_essay_eval)"
      ],
      "metadata": {
        "colab": {
          "base_uri": "https://localhost:8080/",
          "height": 731
        },
        "id": "QaVLXkjKncqw",
        "outputId": "1da0cd67-9cef-41b9-f174-88db03ca73a6"
      },
      "execution_count": 38,
      "outputs": [
        {
          "output_type": "execute_result",
          "data": {
            "text/plain": [
              "<IPython.core.display.Markdown object>"
            ],
            "text/markdown": "## Overall Grade\n- **Level:** C\n- **Score:** 75\n- **Summary:** The essay presents a satisfactory understanding of Iago's exploitation of Othello's insecurities but lacks depth and a clear thesis. While some relevant examples are provided, the analysis is basic and the organization could be improved.\n\n## Category Breakdown\n\n### 1. Thesis\n- **Level:** C\n- **Score:** 70\n- **Justification:** The thesis is present but vague, primarily stating that Iago exploits Othello's insecurities without offering a unique perspective or deeper insight into the implications.\n\n### 2. Evidence\n- **Level:** C\n- **Score:** 70\n- **Justification:** The essay uses some relevant textual examples, such as Iago's manipulation of Othello's jealousy, but lacks variety and depth in the evidence presented.\n\n### 3. Analysis\n- **Level:** C\n- **Score:** 65\n- **Justification:** The analysis connects some evidence to the thesis but is often superficial, failing to explore the deeper implications of Iago's manipulation and its effects on Othello.\n\n### 4. Organization\n- **Level:** C\n- **Score:** 70\n- **Justification:** The essay has some organization, but the ideas can feel jumbled, and transitions between points are not always clear, making the flow of the argument less effective.\n\n### 5. Mechanics\n- **Level:** B\n- **Score:** 80\n- **Justification:** There are few minor errors in grammar and punctuation, but they do not significantly hinder understanding, indicating a generally polished writing style."
          },
          "metadata": {},
          "execution_count": 38
        }
      ]
    },
    {
      "cell_type": "markdown",
      "source": [
        "-----\n",
        "\n",
        "### Analysis\n",
        "\n",
        "Once again, the LLM effectively followed the rubric and grading prompt to produce a structured and balanced evaluation. The model graded the essay as a **C**, matching the intended performance level from the prompt. The feedback highlights key weaknesses—such as a vague thesis, limited analytical depth, and underdeveloped connections between evidence and argument—while still acknowledging strengths in organization and mechanics. This shows that the model can accurately differentiate between levels of writing quality and apply the rubric criteria fairly and consistently. Overall, the output reflects reliable, evidence-based grading aligned with the expectations of a high school English teacher.\n"
      ],
      "metadata": {
        "id": "-yENpsZU0A93"
      }
    },
    {
      "cell_type": "markdown",
      "source": [
        "## Forward\n",
        "\n",
        "You have now seen how we can use LLMs to create agents that write, evaluate, and grade essays through **role-based collaboration**. Each agent — the Student, Teacher, and Grading Agent — performs a distinct function, and together they form a connected workflow powered by **prompt chaining**. This process allows outputs from one model to serve as inputs for another, mirroring how humans collaborate in structured tasks like writing and assessment.\n",
        "\n",
        "Now, the rest of the notebook is up to you — it’s your turn to experiment! Try extending what you’ve learned in creative ways. For example, you can:\n",
        "\n",
        "- Generate **D- or F-level** essays to simulate weaker student writing  \n",
        "- **Adjust the existing prompts** to modify tone, structure, or grading criteria  \n",
        "- **Create additional agents** such as a Peer Reviewer, Rubric Validator, or Format Checker  \n",
        "- Modify the **grading rubric** to target different skills or subject areas  \n",
        "\n",
        "Exploring these variations will help you deepen your understanding of how **prompt design**, **role specialization**, and **collaboration** shape the quality, reasoning, and reliability of LLM-generated outputs.\n"
      ],
      "metadata": {
        "id": "jATSmw4f1Y-Z"
      }
    }
  ]
}
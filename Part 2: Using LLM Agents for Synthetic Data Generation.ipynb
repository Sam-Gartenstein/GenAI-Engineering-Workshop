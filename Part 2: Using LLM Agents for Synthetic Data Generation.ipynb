{
  "nbformat": 4,
  "nbformat_minor": 0,
  "metadata": {
    "colab": {
      "provenance": [],
      "authorship_tag": "ABX9TyOlQSAu+D/AMhEE7t/MJeGC",
      "include_colab_link": true
    },
    "kernelspec": {
      "name": "python3",
      "display_name": "Python 3"
    },
    "language_info": {
      "name": "python"
    }
  },
  "cells": [
    {
      "cell_type": "markdown",
      "metadata": {
        "id": "view-in-github",
        "colab_type": "text"
      },
      "source": [
        "<a href=\"https://colab.research.google.com/github/Sam-Gartenstein/GenAI-Engineering-Workshop/blob/main/Part%202%3A%20Using%20LLM%20Agents%20for%20Synthetic%20Data%20Generation.ipynb\" target=\"_parent\"><img src=\"https://colab.research.google.com/assets/colab-badge.svg\" alt=\"Open In Colab\"/></a>"
      ]
    },
    {
      "cell_type": "markdown",
      "source": [
        "# Part 2: Using LLM Agents for Synthetic Data Generation\n",
        "\n",
        "**Objective**  \n",
        "Generate a synthetic dataset of student essays that vary by **quality**, **grade level**, and **subject area**.\n",
        "\n",
        "**Overview**  \n",
        "This notebook demonstrates a **simplified agentic workflow** for synthetic data generation.  \n",
        "The agents and steps presented here illustrate one possible approach — adaptable to other contexts or goals.\n",
        "\n",
        "---\n",
        "\n",
        "You’ve completed [Part 1: Guide to OpenAI in Google Colab](https://github.com/Sam-Gartenstein/GenAI-Engineering-Workshop/blob/main/Part%201%3A%20Guide%20to%20OpenAI%20in%20Google%20Colab.ipynb). Now, let’s apply those skills to a practical, classroom-inspired use case.  \n",
        "\n",
        "In this section, we’ll explore **[role-based collaboration](https://www.ibm.com/think/topics/multi-agent-collaboration)** — a framework in which multiple LLMs work together by taking on distinct roles with defined responsibilities. Each agent performs a specific task and passes its output to the next, forming a seamless workflow powered by **prompt chaining**.  \n",
        "\n",
        "We’ll use generative AI to:\n",
        "\n",
        "- **Create** two 11th-grade English essays of differing quality (**Student Agent**)  \n",
        "- **Design** a rubric to evaluate the essays (**Rubric Agent**)  \n",
        "- **Grade** the essays using the rubric (**Grading Agent**)  \n",
        "\n",
        "By the end of this notebook, you’ll understand how to design and connect multiple role-based agents to simulate a realistic educational workflow — from essay writing to evaluation and grading.\n"
      ],
      "metadata": {
        "id": "2PTBJOxLCkQQ"
      }
    },
    {
      "cell_type": "markdown",
      "source": [
        "## Table of Contents\n",
        "\n",
        "1. **[Set Up](#set-up)**\n",
        "\n",
        "2. **[Text Generation Function](#text-generation-function)**\n",
        "\n",
        "3. **[Cost Summarization](#cost-summarization)**\n",
        "\n",
        "4. **[Essay Generation](#essay-generation)**\n",
        "\n",
        "    - Student Agent\n",
        "\n",
        "    - 11th Grade English Student\n",
        "\n",
        "    - A-Level Prompt\n",
        "\n",
        "    - C-Level Prompt\n",
        "\n",
        "5.  **[Rubric Generation](#rubric-generation)**\n",
        "\n",
        "    - Rubric Agent Function\n",
        "\n",
        "6.  **[Essay Grading](#essay-grading)**\n",
        "\n",
        "    - Grading Agent\n",
        "\n",
        "    - Grading A Level Essay\n",
        "\n",
        "    - Grading C Level Essay\n",
        "\n",
        "7. **[Putting It All Together](#putting-it-all-together)**"
      ],
      "metadata": {
        "id": "n9F-c_nECCDL"
      }
    },
    {
      "cell_type": "markdown",
      "source": [
        "<a name=\"set-up\"></a>\n",
        "\n",
        "## 1. Set Up\n",
        "\n",
        "First, let's repeat the steps we followed in the previous notebook, which was importing the necessary libraries and loading our key.\n",
        "\n",
        "**Note**: Once you have made a key in colab, it will automatically save, meaning you can use it in other notebooks. When running line two for the first time, you will get a pop up window asking you to grant access."
      ],
      "metadata": {
        "id": "uYwLnel9Dxs0"
      }
    },
    {
      "cell_type": "code",
      "source": [
        "import openai\n",
        "from openai import OpenAI\n",
        "from google.colab import userdata\n",
        "import os\n",
        "from typing import Tuple, Optional, Dict, Any"
      ],
      "metadata": {
        "id": "r_XvFa8-EXJ6"
      },
      "execution_count": 1,
      "outputs": []
    },
    {
      "cell_type": "code",
      "execution_count": 2,
      "metadata": {
        "colab": {
          "base_uri": "https://localhost:8080/"
        },
        "id": "S0E_v7yzCidD",
        "outputId": "563fde61-aec9-412b-e1dc-66f40cd71a36"
      },
      "outputs": [
        {
          "output_type": "stream",
          "name": "stdout",
          "text": [
            "Key loaded? True\n"
          ]
        }
      ],
      "source": [
        "# Pull your saved secret into an environment variable\n",
        "os.environ[\"OPENAI_API_KEY\"] = userdata.get(\"OPENAI_API_KEY\")\n",
        "\n",
        "# Test if the key is available (without printing it)\n",
        "if not os.getenv(\"OPENAI_API_KEY\"):\n",
        "    raise RuntimeError(\"OPENAI_API_KEY is not set. Add it via Colab Secrets (🔑) and try again.\")\n",
        "else:\n",
        "    print(\"Key loaded?\", True)"
      ]
    },
    {
      "cell_type": "code",
      "source": [
        "client = OpenAI()"
      ],
      "metadata": {
        "id": "4eupEMGt6RVR"
      },
      "execution_count": 3,
      "outputs": []
    },
    {
      "cell_type": "markdown",
      "source": [
        "<a name=\"text-generation-function\"></a>\n",
        "\n",
        "\n",
        "## 2. Text Generation Function\n",
        "\n",
        "Let’s create **one** function for generating all outputs. It combines a **system role** (agent persona) with a **task prompt**, and can optionally append extra **sections** (e.g., a rubric and an essay) as clearly labeled blocks. This single helper can write essays, build rubrics, or grade work—just by changing the role, prompt, and sections. It also returns **usage** (token counts) so you can track how many tokens you’re using and estimate cost.\n",
        "\n",
        "**What it does**\n",
        "- Sends a single request to the model with:\n",
        "  - **System role**: defines the voice/perspective (Student, Teacher, Grader, etc.).\n",
        "  - **Prompt**: the task/instructions (e.g., “Evaluate the essay using the rubric…”).\n",
        "  - **Sections (optional)**: a mapping of `Label → Content` appended below the prompt (e.g., `{\"RUBRIC\": ..., \"ESSAY TO GRADE\": ...}`).\n",
        "\n",
        "**Returns**\n",
        "- **Text**: the generated output as a string.\n",
        "- **Usage**: a dict of token metadata from the API (input/output/total tokens), useful for logging and cost estimation.\n",
        "\n",
        "**Why this design**\n",
        "- **One function, many tasks**: swap in different roles/prompts without new code.\n",
        "- **Structured context**: labeled sections keep long inputs organized.\n",
        "- **Cost-aware**: the returned `usage` enables token tracking and pricing."
      ],
      "metadata": {
        "id": "s345XLdyzNFt"
      }
    },
    {
      "cell_type": "code",
      "source": [
        "def text_generation(\n",
        "    system_role: str,\n",
        "    prompt: str,\n",
        "    sections: dict | None = None,\n",
        "    model: str = \"gpt-4o-mini\",\n",
        "    temperature: float = 0.2,\n",
        "):\n",
        "    user_parts = [prompt]\n",
        "    for label, content in (sections or {}).items():\n",
        "        user_parts.append(f\"{label}:\\n{content}\")\n",
        "    user_msg = \"\\n\\n\".join(user_parts)\n",
        "\n",
        "    resp = client.responses.create(\n",
        "        model=model,\n",
        "        input=[\n",
        "            {\"role\": \"system\", \"content\": system_role},\n",
        "            {\"role\": \"user\", \"content\": user_msg},\n",
        "        ],\n",
        "        temperature=temperature,\n",
        "    )\n",
        "    text = (getattr(resp, \"output_text\", \"\") or \"\").strip()\n",
        "    usage = getattr(resp, \"usage\", None)\n",
        "    if usage is not None and not isinstance(usage, dict):\n",
        "        usage = getattr(usage, \"__dict__\", None)\n",
        "    return text, usage\n"
      ],
      "metadata": {
        "id": "zkokk2xQEZX9"
      },
      "execution_count": 4,
      "outputs": []
    },
    {
      "cell_type": "code",
      "source": [
        "from IPython.display import display, Markdown  # Tools for displaying formatted text in Jupyter Notebooks\n",
        "\n",
        "def to_markdown(text):\n",
        "    # Convert the provided text to Markdown format for better display in Jupyter Notebooks\n",
        "    return Markdown(text)\n"
      ],
      "metadata": {
        "id": "ZFNkRVMgNzrt"
      },
      "execution_count": 5,
      "outputs": []
    },
    {
      "cell_type": "markdown",
      "source": [
        "<a name=\"cost-summarization\"></a>\n",
        "\n",
        "## 3. Cost Summarization\n",
        "\n",
        "\n",
        "This helper summarizes token usage and estimates **total cost (USD)** for a model call.\n",
        "\n",
        "**What it uses**\n",
        "- The API’s `usage` payload to read **input_tokens** (prompt) and **output_tokens** (completion).\n",
        "- A built-in **pricing table (per 1M tokens)** for common models (e.g., `gpt-4o-mini`, `gpt-4o`, `gpt-3.5-turbo`).  \n",
        "  If the model isn’t found, it defaults to `gpt-4o-mini`.\n",
        "\n",
        "**Returns**\n",
        "- `model`: the model name used for pricing lookup  \n",
        "- `input_tokens`: tokens consumed by your messages  \n",
        "- `output_tokens`: tokens generated by the model  \n",
        "- `total_tokens`: input + output  \n",
        "- `cost_usd`: estimated cost, rounded to 6 decimals\n",
        "\n",
        "**Why it’s useful**\n",
        "- Quick **cost visibility** per call\n",
        "- Consistent **logging/analytics** across notebooks\n",
        "- Works with different SDK field names (`input_tokens`/`prompt_tokens`, `output_tokens`/`completion_tokens`)\n",
        "\n",
        "<br>\n",
        "\n",
        "**Note**: For full prices, see the official [API Pricing](https://openai.com/api/pricing/)."
      ],
      "metadata": {
        "id": "ok1c4fyv1DqM"
      }
    },
    {
      "cell_type": "code",
      "source": [
        "def summarize_usage_cost(usage: dict, model: str = \"gpt-4o-mini\") -> dict:\n",
        "    \"\"\"\n",
        "    Summarize input/output token usage and total cost (USD).\n",
        "\n",
        "    Args:\n",
        "        usage (dict): Usage info returned by the API (includes input_tokens, output_tokens, etc.).\n",
        "        model (str): Model name for pricing lookup.\n",
        "\n",
        "    Returns:\n",
        "        dict: Contains input_tokens, output_tokens, total_tokens, cost_usd.\n",
        "    \"\"\"\n",
        "    # --- pricing table (per 1M tokens) ---\n",
        "    pricing = {\n",
        "        \"gpt-5\": {\"input\": 1.25 / 1_000_000, \"output\": 10.00 / 1_000_000},\n",
        "        \"gpt-5-mini\": {\"input\": 0.25 / 1_000_000, \"output\": 2.00 / 1_000_000},\n",
        "        \"gpt-4o-mini\": {\"input\": 0.15 / 1_000_000, \"output\": 0.60 / 1_000_000},\n",
        "    }\n",
        "\n",
        "    model_rate = pricing.get(model, pricing[\"gpt-4o-mini\"])  # default if unknown\n",
        "\n",
        "    # --- extract token counts safely ---\n",
        "    input_tokens = usage.get(\"input_tokens\") or usage.get(\"prompt_tokens\", 0)\n",
        "    output_tokens = usage.get(\"output_tokens\") or usage.get(\"completion_tokens\", 0)\n",
        "    total_tokens = (input_tokens or 0) + (output_tokens or 0)\n",
        "\n",
        "    # --- compute cost ---\n",
        "    cost_usd = (\n",
        "        (input_tokens or 0) * model_rate[\"input\"]\n",
        "        + (output_tokens or 0) * model_rate[\"output\"]\n",
        "    )\n",
        "\n",
        "    return {\n",
        "        \"model\": model,\n",
        "        \"input_tokens\": input_tokens or 0,\n",
        "        \"output_tokens\": output_tokens or 0,\n",
        "        \"total_tokens\": total_tokens,\n",
        "        \"cost_usd\": round(cost_usd, 6),\n",
        "    }"
      ],
      "metadata": {
        "id": "_GsBZrC61D9T"
      },
      "execution_count": 6,
      "outputs": []
    },
    {
      "cell_type": "markdown",
      "source": [
        "<a name=\"essay-generation\"></a>\n",
        "\n",
        "## 4. Essay Generation\n",
        "\n",
        "Let's start by generating two essays on the same topic — **Shakespeare’s *Othello***. We’ll create one **A-level** and one **C-level** essay (see this [article](https://usahello.org/education/children/grade-levels/) for an overview of the U.S. grading system) to compare how writing quality changes when the same Student Agent follows different performance prompts.\n"
      ],
      "metadata": {
        "id": "havshzPtJ2Wh"
      }
    },
    {
      "cell_type": "markdown",
      "source": [
        "### Student Agent\n",
        "\n",
        "We’ll begin by creating a **Student Agent**, which represents a student completing an academic assignment. This agent dynamically adapts to different **subjects**, **grade levels**, **assignment types**, and **topics** based on the parameters passed into the `build_student_agent` function.  \n",
        "\n",
        "The Student Agent defines the writer’s persona — realistic, thoughtful, and age-appropriate — ensuring consistent tone and perspective across assignments of varying difficulty or subject matter. By adjusting parameters such as `grade_level`, `subject`, `assignment_type`, and `topic`, you can simulate diverse classroom contexts (e.g., a 9th-grade science lab report or a 12th-grade history essay).  \n",
        "\n",
        "This modular setup makes the Student Agent both **flexible** and **reusable**, allowing you to maintain a natural, student-like writing style across multiple educational use cases.\n",
        "\n",
        "\n",
        "\n"
      ],
      "metadata": {
        "id": "ZHVY2MKOVqZH"
      }
    },
    {
      "cell_type": "code",
      "source": [
        "def build_student_agent(grade_level: str, subject: str, assignment_type: str, topic: str) -> str:\n",
        "    \"\"\"\n",
        "    Build a student persona for role-based generation.\n",
        "    Keeps voice/level in the system message and defers specifics to the prompt.\n",
        "    \"\"\"\n",
        "    return (\n",
        "        f\"You are a {grade_level} student completing a {assignment_type} for your {subject} class \"\n",
        "        f\"on the topic: {topic} \"\n",
        "        \"Write in a realistic student voice—thoughtful but not overly advanced. \"\n",
        "        \"Follow the assignment prompt’s instructions (length, structure, citation style). \"\n",
        "        \"Use clear, organized paragraphs and avoid jargon unless requested.\"\n",
        "    )"
      ],
      "metadata": {
        "id": "dt_t_yEmP2V2"
      },
      "execution_count": 7,
      "outputs": []
    },
    {
      "cell_type": "markdown",
      "source": [
        "### 11th Grade English Student\n",
        "\n",
        "In this example, we create a **Student Agent** representing an 11th-grade student writing an **English essay** on the topic: *“How does Iago exploit Othello’s insecurities to drive the tragedy in **Othello**?”* We’ll call this variable `english_student_11`.\n",
        "\n",
        "This agent captures a realistic, age-appropriate writing voice — thoughtful but not overly advanced — suitable for a high school English student analyzing a complex literary text.\n"
      ],
      "metadata": {
        "id": "8lxhMCRDTKq_"
      }
    },
    {
      "cell_type": "code",
      "source": [
        "grade_level = \"11th grade\"\n",
        "subject = \"English\"\n",
        "assignment_type = \"essay\"\n",
        "topic = \"How does Iago exploit Othello’s insecurities to drive the tragedy in *Othello*?\"\n",
        "\n",
        "english_student_11 = build_student_agent(grade_level, subject, assignment_type, topic)"
      ],
      "metadata": {
        "id": "mn8XfwAOL7da"
      },
      "execution_count": 8,
      "outputs": []
    },
    {
      "cell_type": "markdown",
      "source": [
        "### A-Level Prompt\n",
        "\n",
        "Now that we’ve defined the **Student Agent** for an 11th-grade English student writing about *Othello*, we can move on to creating the **A-Level Prompt**, which provides the model with detailed writing instructions. We’ll call this prompt `essay_A_level_instructions`.  \n",
        "\n",
        "The A-Level Prompt directs the model to produce an outstanding literary analysis essay that demonstrates deep understanding, originality, and strong analytical reasoning. It requires a clear, arguable thesis placed at the end of the introduction and supported by concise quotations and insightful interpretation.  \n",
        "\n",
        "Writing at this level should be polished and formal — avoiding casual tone, first person, and rhetorical questions. Each paragraph should begin with a strong topic sentence and connect logically to the thesis. The essay should be **450–600 words** and cite evidence in *(act.scene.line)* format (e.g., *3.3.167*), resulting in a cohesive, high-quality literary analysis suitable for an advanced high school student.\n"
      ],
      "metadata": {
        "id": "tlcBYiLeJrt2"
      }
    },
    {
      "cell_type": "code",
      "source": [
        "essay_A_level_instructions = (\n",
        "    \"Write an A-level literary analysis essay that follows the detailed guidelines below.\\n\\n\"\n",
        "    \"What 'A-level' means: excellent or outstanding work — demonstrates a deep and \"\n",
        "    \"original understanding of the text, presents a clear and arguable thesis, and supports claims with precise \"\n",
        "    \"evidence and insightful analysis. Writing should be organized, polished, and stylistically sophisticated.\\n\\n\"\n",
        "    \"OUTPUT REQUIREMENTS:\\n\"\n",
        "    \"- Include a clear, arguable thesis at the END of the introduction.\\n\"\n",
        "    \"- Use concise, well-chosen quotations from the play and explain HOW they support your argument \"\n",
        "    \"(analysis > summary).\\n\"\n",
        "    \"- Ensure each paragraph has a strong topic sentence and smooth transitions; every idea should advance the thesis.\\n\"\n",
        "    \"- Maintain a precise, academic tone throughout; avoid first person, rhetorical questions, or casual phrasing.\\n\"\n",
        "    \"- Aim for ~450–600 words.\\n\"\n",
        "    \"- Cite quotations using act.scene.line format (e.g., 3.3.167).\\n\"\n",
        ")\n"
      ],
      "metadata": {
        "id": "EaQrDp09G-D3"
      },
      "execution_count": 9,
      "outputs": []
    },
    {
      "cell_type": "code",
      "source": [
        "A_level_essay, A_level_usage = text_generation(\n",
        "    system_role=english_student_11,\n",
        "    prompt=essay_A_level_instructions,\n",
        "    model=\"gpt-4o-mini\",\n",
        "    temperature=0.3,\n",
        ")\n",
        "\n",
        "to_markdown(A_level_essay)"
      ],
      "metadata": {
        "id": "JCuKRLCZJvd2",
        "colab": {
          "base_uri": "https://localhost:8080/",
          "height": 512
        },
        "outputId": "b22efa30-d6cb-4bae-d03a-fc686d1c95b4"
      },
      "execution_count": 10,
      "outputs": [
        {
          "output_type": "execute_result",
          "data": {
            "text/plain": [
              "<IPython.core.display.Markdown object>"
            ],
            "text/markdown": "In Shakespeare's *Othello*, the tragic downfall of the titular character is intricately tied to his insecurities, which Iago exploits to orchestrate his manipulation. Othello, a Moor and a general in the Venetian army, is portrayed as a noble and capable leader; however, his status as an outsider in Venetian society and his deep-seated insecurities regarding his race and his marriage to Desdemona render him vulnerable to Iago's machinations. Iago's calculated exploitation of Othello's vulnerabilities not only drives the plot forward but also highlights the themes of jealousy, trust, and the destructive power of manipulation. Ultimately, Iago's manipulation reveals how deeply ingrained insecurities can lead to one's tragic demise, illustrating that the greatest threats often come from within.\n\nIago's manipulation begins with his understanding of Othello's insecurities regarding his racial identity. Othello is acutely aware that he is different from the predominantly white Venetian society, which leads him to doubt his worthiness and place within it. Iago capitalizes on this vulnerability by insinuating that Desdemona's love for Othello is unnatural and that she could easily be swayed by someone of her own race. He suggests, “Blessed fig's-end! The wine she drinks is made of grapes: if she had been blessed, she would never have loved the Moor” (2.1.247-249). This statement not only undermines Othello's confidence but also plants the seed of doubt regarding Desdemona's fidelity. By framing Othello's love as something that defies societal norms, Iago exacerbates Othello's insecurities, making him more susceptible to jealousy and suspicion.\n\nMoreover, Iago exploits Othello's insecurities about his marriage. Othello's love for Desdemona is profound, yet his self-doubt leads him to question her loyalty. Iago's manipulation is evident when he uses the handkerchief, a token of love given to Desdemona by Othello, as a symbol of infidelity. When Iago tells Othello, “Trifles light as air are to the jealous confirmations strong as proofs of holy writ” (3.3.322-324), he emphasizes how jealousy can distort reality. This statement reveals that Iago understands how to twist Othello's perception of love and trust. The handkerchief becomes a pivotal piece of evidence that Iago uses to convince Othello of Desdemona's betrayal, further fueling Othello's insecurities and leading him down a path of tragic misunderstanding.\n\nAdditionally, Iago's manipulation is not limited to Othello's personal insecurities; it also extends to his professional identity. As a respected general, Othello is aware that any sign of weakness could jeopardize his position. Iago exploits this by suggesting that Othello's reputation is at stake due to Desdemona's alleged infidelity. When Iago states, “O, beware, my lord, of jealousy! It is the green-eyed monster which doth mock the meat it feeds on” (3.3.165-167), he warns Othello about the dangers of jealousy while simultaneously inciting it within him. This paradoxical advice reveals Iago's cunning nature and his ability to manipulate Othello’s insecurities regarding his authority and reputation. As Othello becomes increasingly consumed by jealousy, he loses sight of his rationality and judgment, leading to his tragic downfall.\n\nIn conclusion, Iago's exploitation of Othello's insecurities regarding his race, marriage, and professional identity serves as the catalyst for the tragedy that unfolds in Shakespeare's *Othello*. Through calculated manipulation, Iago transforms Othello's noble qualities into tragic flaws, ultimately leading to a catastrophic end. The play serves as a poignant reminder of how deeply personal insecurities can be weaponized, resulting in devastating consequences. Othello's tragedy is not merely a story of jealousy and betrayal; it is a profound exploration of the vulnerabilities that lie within us all and the catastrophic potential they hold when exploited by those we trust."
          },
          "metadata": {},
          "execution_count": 10
        }
      ]
    },
    {
      "cell_type": "markdown",
      "source": [
        "#### Cost Summarization"
      ],
      "metadata": {
        "id": "azYlcVyI6qzZ"
      }
    },
    {
      "cell_type": "code",
      "source": [
        "summarize_usage_cost(A_level_usage)"
      ],
      "metadata": {
        "colab": {
          "base_uri": "https://localhost:8080/"
        },
        "id": "YGzC88Go0vgv",
        "outputId": "18d13c32-2ead-48fd-b181-e833b0fb522b"
      },
      "execution_count": 11,
      "outputs": [
        {
          "output_type": "execute_result",
          "data": {
            "text/plain": [
              "{'model': 'gpt-4o-mini',\n",
              " 'input_tokens': 268,\n",
              " 'output_tokens': 843,\n",
              " 'total_tokens': 1111,\n",
              " 'cost_usd': 0.000546}"
            ]
          },
          "metadata": {},
          "execution_count": 11
        }
      ]
    },
    {
      "cell_type": "markdown",
      "source": [
        "-----\n",
        "\n",
        "### C-Level Prompt\n",
        "\n",
        "The **C-Level Prompt** instructs the model to produce an average or barely passing essay. A *C-level* essay demonstrates basic comprehension of the topic but lacks depth, organization, and stylistic control. It may have a weak or missing thesis, minimal or poorly integrated evidence, repetitive ideas, and noticeable grammar or usage mistakes. We will call this `essay_C_level_instructions`.\n",
        "\n",
        "Writing at this level should sound more casual and unpolished — including filler phrases such as “I think” or “in my opinion” and avoiding strong transitions like “however” or “therefore.” The essay should be short, approximately four paragraphs (200–300 words), and contain a few minor grammatical errors that sound natural for a struggling student writer.  \n",
        "\n",
        "Like before, we provide **explicit instructions** in the prompt to guide the model’s behavior. The detailed output requirements ensure the essay intentionally reflects weaker academic performance while still maintaining a realistic student voice."
      ],
      "metadata": {
        "id": "utz_pOiCKpZ1"
      }
    },
    {
      "cell_type": "code",
      "source": [
        "essay_C_level_instructions = (\n",
        "    \"Write an essay responding to the question below.\\n\\n\"\n",
        "    \"IMPORTANT: Produce a deliberately poor-quality **C-level** essay for teaching purposes.\\n\"\n",
        "    \"What 'C-level' means: average or barely passing work — shows some understanding \"\n",
        "    \"but lacks depth or polish; weak thesis or none, little/no evidence, poor organization, repetition/vagueness, \"\n",
        "    \"and noticeable grammar/style mistakes.\\n\\n\"\n",
        "    \"OUTPUT REQUIREMENTS:\\n\"\n",
        "    \"- Return ONLY the essay body (no headings or bullets).\\n\"\n",
        "    \"- Do NOT provide a clear thesis; keep the main claim vague.\\n\"\n",
        "    \"- Provide minimal or poorly integrated evidence (generic statements are fine; avoid direct quotations).\\n\"\n",
        "    \"- Organization should be weak (some repetition or loosely connected ideas is acceptable).\\n\"\n",
        "    \"- Keep it short: 4 paragraphs (~200–300 words).\\n\"\n",
        "    \"- Include a few minor grammar/usage mistakes naturally (e.g., comma splices, agreement issues).\\n\"\n",
        "    \"- Casual, somewhat imprecise tone is acceptable.\\n\"\n",
        "    \"- Use a few filler phrases like 'I think' or 'in my opinion,' and avoid strong transitions like 'however' or 'therefore.'\"\n",
        ")\n",
        "\n",
        "\n",
        "C_level_essay, C_level_usage = text_generation(\n",
        "    system_role=english_student_11,\n",
        "    prompt=essay_C_level_instructions,\n",
        "    model=\"gpt-4o-mini\",\n",
        "    temperature=0.3,\n",
        ")\n"
      ],
      "metadata": {
        "id": "YrBdddUXKahM"
      },
      "execution_count": 12,
      "outputs": []
    },
    {
      "cell_type": "code",
      "source": [
        "to_markdown(C_level_essay)"
      ],
      "metadata": {
        "id": "nWXmlYdXO5AU",
        "colab": {
          "base_uri": "https://localhost:8080/",
          "height": 268
        },
        "outputId": "3e6f0892-2557-486e-80e9-2940ca219ca2"
      },
      "execution_count": 13,
      "outputs": [
        {
          "output_type": "execute_result",
          "data": {
            "text/plain": [
              "<IPython.core.display.Markdown object>"
            ],
            "text/markdown": "In *Othello*, Iago is a character who really takes advantage of Othello’s insecurities. Othello is a Moor and he feels like he doesn’t fit in with the other Venetians. I think this makes him more vulnerable to Iago’s manipulation. Iago knows that Othello is insecure about his race and status, and he uses this to his advantage. For example, Iago keeps planting doubts in Othello’s mind about Desdemona’s faithfulness. This is important because it shows how Iago can twist Othello’s feelings and make him question everything.\n\nAnother way Iago exploits Othello’s insecurities is by pretending to be his friend. He acts like he is looking out for Othello, but really he is just trying to ruin him. Othello trusts Iago, which is a big mistake. Iago’s manipulation makes Othello feel even more insecure about Desdemona. This is a big deal because it leads Othello to make bad decisions. Iago keeps pushing Othello to think that Desdemona is cheating, which drives Othello to jealousy and rage.\n\nI think it’s also worth mentioning that Iago plays on Othello’s feelings of inadequacy. Othello is a great general, but he still doubts himself. Iago uses this self-doubt to make Othello feel like he is not good enough for Desdemona. This really messes with Othello’s mind and makes him act irrationally. It’s like Iago knows exactly how to get under Othello’s skin, which is kind of scary.\n\nIn conclusion, Iago’s exploitation of Othello’s insecurities is a major part of the tragedy in the play. Othello’s trust in Iago and his own self-doubt lead him to make choices that ultimately destroy him. I think this shows how dangerous it can be when someone takes advantage of another person’s weaknesses. Overall, Iago’s manipulation is what drives the tragic events in *Othello*."
          },
          "metadata": {},
          "execution_count": 13
        }
      ]
    },
    {
      "cell_type": "markdown",
      "source": [
        "#### Cost Summarization"
      ],
      "metadata": {
        "id": "45kKIWJ38D4e"
      }
    },
    {
      "cell_type": "code",
      "source": [
        "summarize_usage_cost(C_level_usage)"
      ],
      "metadata": {
        "colab": {
          "base_uri": "https://localhost:8080/"
        },
        "id": "_EWybRRC26gr",
        "outputId": "3c7c35ee-3e73-4cfd-ecc4-8ae27ca82ee9"
      },
      "execution_count": 14,
      "outputs": [
        {
          "output_type": "execute_result",
          "data": {
            "text/plain": [
              "{'model': 'gpt-4o-mini',\n",
              " 'input_tokens': 300,\n",
              " 'output_tokens': 423,\n",
              " 'total_tokens': 723,\n",
              " 'cost_usd': 0.000299}"
            ]
          },
          "metadata": {},
          "execution_count": 14
        }
      ]
    },
    {
      "cell_type": "markdown",
      "source": [
        "<a name=\"rubric-generation\"></a>\n",
        "\n",
        "## 5. Rubric Generation\n",
        "\n",
        "\n",
        "Great! We’ve now generated two essays on the same topic but with different performance levels. The next step is to create a **rubric** that can be used to evaluate them.\n"
      ],
      "metadata": {
        "id": "8L80tCb3Mv1E"
      }
    },
    {
      "cell_type": "markdown",
      "source": [
        "### Rubric Agent Function\n",
        "\n",
        "The `build_rubric_agent` function creates a **teacher persona** that specializes in building grading rubrics. It takes in the **grade level**, **subject**, **assignment type**, and **topic** to generate a clear system message describing the teacher’s role.  \n",
        "\n",
        "This teacher is instructed to design a **student-facing rubric** with 4–6 criteria and A/B/C/D performance levels. The rubric should use concise, observable, and consistent language, focusing only on defining expectations — not grading specific work.\n"
      ],
      "metadata": {
        "id": "Td_f3SagS3_q"
      }
    },
    {
      "cell_type": "code",
      "source": [
        "def build_rubric_agent(grade_level: str, subject: str, assignment_type: str, topic: str) -> str:\n",
        "    \"\"\"\n",
        "    Build a teacher persona for rubric generation.\n",
        "    Keeps guidance in the system message; the task/prompt comes separately.\n",
        "    \"\"\"\n",
        "    return (\n",
        "        f\"You are a {subject} teacher creating a grading rubric for a {assignment_type} \"\n",
        "        f\"on the topic: {topic}, for {grade_level} students. \"\n",
        "        \"Be clear and student-facing.\"\n",
        "    )"
      ],
      "metadata": {
        "id": "WmmsVzmAPpJF"
      },
      "execution_count": 15,
      "outputs": []
    },
    {
      "cell_type": "code",
      "source": [
        "rubric_agent = build_rubric_agent(\n",
        "    grade_level=\"11th grade\",\n",
        "    subject=\"English\",\n",
        "    assignment_type=\"essay\",\n",
        "    topic=\"How does Iago exploit Othello’s insecurities to drive the tragedy in *Othello*?\"\n",
        ")"
      ],
      "metadata": {
        "id": "SaMVaj_lPo8P"
      },
      "execution_count": 16,
      "outputs": []
    },
    {
      "cell_type": "code",
      "source": [
        "rubric_instructions = (\n",
        "    \"Create a detailed, student-facing grading rubric tailored to the given topic and grade level. \"\n",
        "    \"The rubric should include **4–6 criteria** that capture key dimensions of performance \"\n",
        "    \"(e.g., Thesis, Evidence, Analysis, Organization, Mechanics).\\n\\n\"\n",
        "    \"For each criterion, provide concise and specific descriptors for **A**, **B**, **C**, **D**, and **F** levels, \"\n",
        "    \"focusing on observable behaviors and measurable writing qualities rather than vague judgments.\\n\\n\"\n",
        "    \"Return the rubric in clean Markdown format using this structure:\\n\\n\"\n",
        "    \"## Rubric\\n\"\n",
        "    \"### Criterion Name\\n\"\n",
        "    \"- **Weight (%):** [assign a reasonable percentage]\\n\"\n",
        "    \"- **A:** [clear, exceptional performance descriptor]\\n\"\n",
        "    \"- **B:** [strong, competent performance descriptor]\\n\"\n",
        "    \"- **C:** [basic or developing performance descriptor]\\n\"\n",
        "    \"- **D:** [limited or below-standard performance descriptor]\\n\"\n",
        "    \"- **F:** [incomplete, missing, or unsatisfactory work]\\n\\n\"\n",
        "    \"After listing all criteria, include a **Notes** section summarizing key expectations and overall grading guidance. \"\n",
        "    \"Ensure the tone remains student-friendly, consistent, and easy to understand.\"\n",
        ")\n"
      ],
      "metadata": {
        "id": "rRDjb2RHSuTx"
      },
      "execution_count": 17,
      "outputs": []
    },
    {
      "cell_type": "code",
      "source": [
        "english_rubric, rubric_usage = text_generation(\n",
        "    system_role=rubric_agent,\n",
        "    prompt=rubric_instructions,\n",
        "    model=\"gpt-4o-mini\",\n",
        "    temperature=0.3,\n",
        ")\n",
        "\n",
        "to_markdown(english_rubric)"
      ],
      "metadata": {
        "colab": {
          "base_uri": "https://localhost:8080/",
          "height": 901
        },
        "id": "D9v3BZSHXMGo",
        "outputId": "627047a3-8ca8-40db-d375-0346f5b70925"
      },
      "execution_count": 18,
      "outputs": [
        {
          "output_type": "execute_result",
          "data": {
            "text/plain": [
              "<IPython.core.display.Markdown object>"
            ],
            "text/markdown": "## Rubric\n\n### Thesis\n- **Weight (%):** 20%\n- **A:** Presents a clear, insightful, and original thesis that directly addresses how Iago exploits Othello’s insecurities.\n- **B:** States a clear thesis that addresses the prompt, with some insight into Iago's manipulation of Othello.\n- **C:** Presents a basic thesis that addresses the topic but lacks depth or clarity regarding Iago’s exploitation of Othello.\n- **D:** States a vague or unclear thesis that does not adequately address the prompt or is off-topic.\n- **F:** No thesis statement or a thesis that is completely irrelevant to the topic.\n\n### Evidence\n- **Weight (%):** 25%\n- **A:** Integrates multiple, relevant textual examples that effectively support the thesis and illustrate Iago’s manipulation.\n- **B:** Uses relevant textual examples that support the thesis, though may lack depth or variety.\n- **C:** Provides some textual evidence, but it may be limited, not always relevant, or insufficiently connected to the thesis.\n- **D:** Includes minimal or irrelevant evidence that does not support the thesis or is poorly integrated.\n- **F:** No evidence provided or evidence that is entirely unrelated to the topic.\n\n### Analysis\n- **Weight (%):** 25%\n- **A:** Offers insightful and thorough analysis of how Iago exploits Othello’s insecurities, demonstrating a deep understanding of the text.\n- **B:** Provides competent analysis that explains how Iago manipulates Othello, but may lack depth or thoroughness.\n- **C:** Presents basic analysis that touches on Iago’s exploitation of Othello but lacks clarity or depth.\n- **D:** Offers limited analysis that does not clearly connect evidence to the thesis or lacks understanding of the text.\n- **F:** No analysis provided or analysis that is completely off-topic or incorrect.\n\n### Organization\n- **Weight (%):** 15%\n- **A:** Essay is well-organized with a clear structure, including a strong introduction, logical transitions, and a cohesive conclusion.\n- **B:** Organization is clear, with a logical structure and transitions, though some areas may be slightly unclear.\n- **C:** Basic organization is present, but the essay may lack clear transitions or a cohesive flow.\n- **D:** Poorly organized, with unclear structure and weak transitions that hinder understanding.\n- **F:** No clear organization; the essay is difficult to follow or lacks a coherent structure.\n\n### Mechanics\n- **Weight (%):** 15%\n- **A:** Contains few or no grammatical, spelling, or punctuation errors; writing is polished and professional.\n- **B:** Contains some minor errors, but they do not interfere with understanding; writing is generally clear.\n- **C:** Contains several errors that may distract the reader but do not significantly impede understanding.\n- **D:** Frequent errors in grammar, spelling, or punctuation that make the writing difficult to read.\n- **F:** Numerous errors that severely hinder understanding; writing is unprofessional and unclear.\n\n## Notes\n- **Key Expectations:** Your essay should clearly address how Iago exploits Othello’s insecurities, supported by relevant textual evidence and insightful analysis. Ensure your thesis is strong and your essay is well-organized. Pay attention to mechanics to present your ideas clearly.\n- **Overall Grading Guidance:** Aim for clarity, depth, and coherence in your writing. Use specific examples from the text to support your points, and make sure to analyze those examples thoroughly. Good luck!"
          },
          "metadata": {},
          "execution_count": 18
        }
      ]
    },
    {
      "cell_type": "code",
      "source": [
        "summarize_usage_cost(rubric_usage)"
      ],
      "metadata": {
        "colab": {
          "base_uri": "https://localhost:8080/"
        },
        "id": "ALIgB7gUXU26",
        "outputId": "5790bb0c-c2c4-4397-fa1d-286ae3a637df"
      },
      "execution_count": 19,
      "outputs": [
        {
          "output_type": "execute_result",
          "data": {
            "text/plain": [
              "{'model': 'gpt-4o-mini',\n",
              " 'input_tokens': 275,\n",
              " 'output_tokens': 720,\n",
              " 'total_tokens': 995,\n",
              " 'cost_usd': 0.000473}"
            ]
          },
          "metadata": {},
          "execution_count": 19
        }
      ]
    },
    {
      "cell_type": "markdown",
      "source": [
        "----\n",
        "\n",
        "<a name=\"essay-grading\"></a>\n",
        "\n",
        "\n",
        "## 6. Essay Grading\n",
        "\n",
        "Now we can use the LLM to **grade the essay**. This step allows us to evaluate whether the generated writing aligns with the expected performance level (A or C) and provides structured, rubric-based feedback."
      ],
      "metadata": {
        "id": "h38m6jEGPXi4"
      }
    },
    {
      "cell_type": "markdown",
      "source": [
        "### Grading Agent\n",
        "\n",
        "Next, we’ll create a **Grading Agent**, which also takes on the teacher persona but focuses specifically on evaluating student work. This agent uses the rubric and grading instructions to assess the essay’s strengths and weaknesses across multiple categories, assigning both a letter grade and a numerical score."
      ],
      "metadata": {
        "id": "RRp6X4sGPfC_"
      }
    },
    {
      "cell_type": "code",
      "source": [
        "def build_grading_agent(grade_level: str, subject: str, assignment_type: str, topic: str) -> str:\n",
        "    \"\"\"\n",
        "    Build a teacher persona for grading essay.\n",
        "    Keeps guidance in the system message; the task/prompt comes separately.\n",
        "    \"\"\"\n",
        "    return (\n",
        "        f\"You are a {subject} teacher carefully grading a {assignment_type} \"\n",
        "        f\"on the topic: {topic}, for {grade_level} students. \"\n",
        "        \"Be fair, consistent, and concise.\"\n",
        "    )"
      ],
      "metadata": {
        "id": "PZfcD4CzSuQ6"
      },
      "execution_count": 20,
      "outputs": []
    },
    {
      "cell_type": "code",
      "source": [
        "grading_agent = build_grading_agent(\n",
        "    grade_level=\"11th grade\",\n",
        "    subject=\"English\",\n",
        "    assignment_type=\"essay\",\n",
        "    topic=\"How does Iago exploit Othello’s insecurities to drive the tragedy in *Othello*?\"\n",
        ")"
      ],
      "metadata": {
        "id": "9MglxT6Inche"
      },
      "execution_count": 21,
      "outputs": []
    },
    {
      "cell_type": "code",
      "source": [
        "grading_instructions = (\n",
        "    \"Evaluate the essay using the provided rubric.\\n\\n\"\n",
        "    \"OUTPUT FORMAT (Markdown):\\n\"\n",
        "    \"## Overall Grade\\n\"\n",
        "    \"- **Level:** A|B|C|D|F\\n\"\n",
        "    \"- **Score:** [numeric total]/100\\n\"\n",
        "    \"- **Summary (2–3 sentences):** …\\n\\n\"\n",
        "    \"## Category Breakdown\\n\"\n",
        "    \"For each category from the rubric (in the same order), include:\\n\"\n",
        "    \"- **Level:** A|B|C|D|F\\n\"\n",
        "    \"- **Score:** [earned points]/[category total]\\n\"\n",
        "    \"- **Justification (1–2 sentences):** specific and tied directly to the rubric\\n\\n\"\n",
        "    \"Rules:\\n\"\n",
        "    \"- Mirror the rubric categories exactly and in order.\\n\"\n",
        "    \"- Be concise, evidence-based, and professional.\\n\"\n",
        "    \"- Do not invent categories that are not in the rubric.\\n\"\n",
        "    \"- Ensure total points across all categories add up to 100.\"\n",
        ")\n"
      ],
      "metadata": {
        "id": "Nt5BEueHnhl0"
      },
      "execution_count": 22,
      "outputs": []
    },
    {
      "cell_type": "markdown",
      "source": [
        "### Grading A Level Essay"
      ],
      "metadata": {
        "id": "ufFqdv6rsD67"
      }
    },
    {
      "cell_type": "code",
      "source": [
        "A_level_essay_graded, A_level_essay_graded_usage = text_generation(\n",
        "    system_role=grading_agent,\n",
        "    prompt=grading_instructions,\n",
        "    sections={\"RUBRIC\": english_rubric, \"ESSAY TO GRADE\": A_level_essay},\n",
        "    temperature=0.2,\n",
        ")\n",
        "\n",
        "to_markdown(A_level_essay_graded)"
      ],
      "metadata": {
        "colab": {
          "base_uri": "https://localhost:8080/",
          "height": 641
        },
        "id": "hsXcebBYo5qp",
        "outputId": "feade617-6eb7-4575-d2dd-58afd2514421"
      },
      "execution_count": 23,
      "outputs": [
        {
          "output_type": "execute_result",
          "data": {
            "text/plain": [
              "<IPython.core.display.Markdown object>"
            ],
            "text/markdown": "## Overall Grade\n- **Level:** A\n- **Score:** 95/100\n- **Summary:** This essay presents a clear and insightful thesis regarding how Iago exploits Othello's insecurities, supported by relevant textual evidence and thorough analysis. The organization and mechanics are strong, making for a compelling and coherent argument.\n\n## Category Breakdown\n- **Thesis**\n  - **Level:** A\n  - **Score:** 20/20\n  - **Justification:** The thesis is clear, insightful, and directly addresses how Iago exploits Othello's insecurities, setting a strong foundation for the essay.\n\n- **Evidence**\n  - **Level:** A\n  - **Score:** 23/25\n  - **Justification:** The essay integrates multiple relevant textual examples that effectively support the thesis, though a bit more variety in evidence could enhance depth.\n\n- **Analysis**\n  - **Level:** A\n  - **Score:** 24/25\n  - **Justification:** The analysis is insightful and demonstrates a deep understanding of how Iago manipulates Othello's insecurities, connecting evidence to the thesis effectively.\n\n- **Organization**\n  - **Level:** A\n  - **Score:** 15/15\n  - **Justification:** The essay is well-organized with a clear structure, logical transitions, and a cohesive conclusion that reinforces the main argument.\n\n- **Mechanics**\n  - **Level:** A\n  - **Score:** 13/15\n  - **Justification:** The writing is polished and professional, with only minor errors that do not interfere with understanding.\n\nOverall, this essay effectively addresses the prompt with clarity and depth, showcasing a strong grasp of the text and its themes."
          },
          "metadata": {},
          "execution_count": 23
        }
      ]
    },
    {
      "cell_type": "code",
      "source": [
        "summarize_usage_cost(A_level_essay_graded_usage)"
      ],
      "metadata": {
        "colab": {
          "base_uri": "https://localhost:8080/"
        },
        "id": "MIjG4OCp4K2A",
        "outputId": "ded42e3e-507e-4dd1-861e-632a35b9bfcc"
      },
      "execution_count": 24,
      "outputs": [
        {
          "output_type": "execute_result",
          "data": {
            "text/plain": [
              "{'model': 'gpt-4o-mini',\n",
              " 'input_tokens': 1794,\n",
              " 'output_tokens': 357,\n",
              " 'total_tokens': 2151,\n",
              " 'cost_usd': 0.000483}"
            ]
          },
          "metadata": {},
          "execution_count": 24
        }
      ]
    },
    {
      "cell_type": "markdown",
      "source": [
        "#### Analysis\n",
        "\n",
        "The grading agent correctly assigned this essay an **A-level score**, aligning with the intended prompt for a high-performing literary analysis. The feedback highlights the essay’s strengths: a clear and insightful thesis, well-chosen textual evidence, and deep analytical engagement with Iago’s manipulation of Othello’s insecurities. The small deductions in **Evidence** and **Mechanics** categories show thoughtful nuance — recognizing that even excellent essays can improve slightly in depth and polish.\n",
        "\n",
        "This evaluation demonstrates that the grading agent effectively applied the rubric, identifying both the essay’s advanced qualities and minor areas for refinement. The result confirms that the **A-level prompt** successfully produced writing consistent with top-tier academic standards, and that the rubric and grading instructions are well-calibrated for distinguishing high performance.\n",
        "\n"
      ],
      "metadata": {
        "id": "FRnJJInOJQjq"
      }
    },
    {
      "cell_type": "markdown",
      "source": [
        "### Grading C Level Essay"
      ],
      "metadata": {
        "id": "ft6vQw0inauJ"
      }
    },
    {
      "cell_type": "code",
      "source": [
        "C_level_essay_graded, C_level_essay_graded_usage = text_generation(\n",
        "    system_role=grading_agent,\n",
        "    prompt=grading_instructions,\n",
        "    sections={\"RUBRIC\": english_rubric, \"ESSAY TO GRADE\": C_level_essay},\n",
        "    temperature=0.2,\n",
        ")\n",
        "\n",
        "to_markdown(C_level_essay_graded)"
      ],
      "metadata": {
        "colab": {
          "base_uri": "https://localhost:8080/",
          "height": 669
        },
        "id": "qIHkjKU-soUt",
        "outputId": "5f5457df-ddb1-4846-ab7b-81f90aaf590a"
      },
      "execution_count": 25,
      "outputs": [
        {
          "output_type": "execute_result",
          "data": {
            "text/plain": [
              "<IPython.core.display.Markdown object>"
            ],
            "text/markdown": "## Overall Grade\n- **Level:** B\n- **Score:** 80/100\n- **Summary:** The essay presents a clear thesis regarding Iago's exploitation of Othello's insecurities, supported by relevant examples. However, the analysis could be more in-depth, and the organization could be improved for better clarity.\n\n## Category Breakdown\n- **Thesis**\n  - **Level:** B\n  - **Score:** 16/20\n  - **Justification:** The thesis is clear and addresses the prompt, indicating Iago's manipulation of Othello's insecurities, but lacks a more nuanced insight into the implications of this exploitation.\n\n- **Evidence**\n  - **Level:** B\n  - **Score:** 20/25\n  - **Justification:** The essay uses relevant textual examples to support the thesis, but the variety and depth of examples could be enhanced to strengthen the argument.\n\n- **Analysis**\n  - **Level:** B\n  - **Score:** 20/25\n  - **Justification:** The analysis explains how Iago manipulates Othello, but it could benefit from deeper exploration of the consequences of Iago's actions and their impact on Othello's character development.\n\n- **Organization**\n  - **Level:** C\n  - **Score:** 10/15\n  - **Justification:** The essay has a basic structure, but transitions between ideas are somewhat abrupt, which affects the overall flow and coherence of the argument.\n\n- **Mechanics**\n  - **Level:** B\n  - **Score:** 14/15\n  - **Justification:** The writing is generally clear with only minor grammatical errors that do not significantly impede understanding, demonstrating a polished style."
          },
          "metadata": {},
          "execution_count": 25
        }
      ]
    },
    {
      "cell_type": "code",
      "source": [
        "summarize_usage_cost(C_level_essay_graded_usage)"
      ],
      "metadata": {
        "colab": {
          "base_uri": "https://localhost:8080/"
        },
        "id": "OqEYwewE5N_4",
        "outputId": "cfd50172-48ec-4233-d30c-ea17d36e84ed"
      },
      "execution_count": 26,
      "outputs": [
        {
          "output_type": "execute_result",
          "data": {
            "text/plain": [
              "{'model': 'gpt-4o-mini',\n",
              " 'input_tokens': 1374,\n",
              " 'output_tokens': 356,\n",
              " 'total_tokens': 1730,\n",
              " 'cost_usd': 0.00042}"
            ]
          },
          "metadata": {},
          "execution_count": 26
        }
      ]
    },
    {
      "cell_type": "markdown",
      "source": [
        "#### Analysis\n",
        "\n",
        "Even though we requested a C-level essay, the grading agent gave this essay a B-level score! This suggests that our **C-level prompt** may not have produced writing that was weak enough to clearly align with average or below-average performance. It’s also possible that the **rubric** or **grading instructions** were slightly too lenient.  \n",
        "\n",
        "This highlights an important part of prompt design — even small wording changes can shift how the model interprets quality. To improve alignment, we could make the C-level prompt more restrictive (e.g., emphasize poor organization, missing evidence, and vague claims) or adjust the grading rubric to enforce stricter distinctions between B- and C-level criteria.  \n"
      ],
      "metadata": {
        "id": "hVmDVzrgItQu"
      }
    },
    {
      "cell_type": "markdown",
      "source": [
        "<a name=\"putting-it-all-together\"></a>\n",
        "\n",
        "\n",
        "## 7. Putting It All Together\n",
        "\n",
        "You have now seen how LLMs can be used to create agents that **write, evaluate, and grade essays** through **role-based collaboration**. The next step is to **scale up essay generation** to match your desired dataset size — for example, by generating **100 essays** across different topics or performance levels.\n",
        "\n",
        "1. **Select 10 use cases** — combinations of subject areas and grade levels — and generate **10 essays per use case** with varying quality levels (e.g., 2 A-level, 4 B-level, 2 C-level, 2 D-level).  \n",
        "2. **Create a Pandas DataFrame** where each row represents a unique essay. Include columns for all relevant inputs (e.g., grade level, subject, prompt, intended essay quality) plus a column for the essay text.  \n",
        "3. **Use the essay grading function** to verify whether the grades assigned by the LLM align with the intended essay-quality labels.  \n",
        "4. **Analyze discrepancies:**  \n",
        "   - Do the LLM-assigned grades differ from the expected quality levels?  \n",
        "   - What might explain these differences — workflow design issues, LLM limitations, or data variation?  \n",
        "   - How could you refine your approach to reduce these discrepancies?  \n",
        "5. **Iterate and refine** your workflow based on these insights.\n",
        "\n",
        "---\n",
        "\n",
        "Now, **experiment with your own workflow** — explore different agent structures, prompts, or workflows to see how they affect dataset quality and consistency.\n"
      ],
      "metadata": {
        "id": "EoxIj1e7_1mE"
      }
    }
  ]
}